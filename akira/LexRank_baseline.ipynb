{
 "cells": [
  {
   "cell_type": "markdown",
   "metadata": {},
   "source": [
    "## Lexrank Implementation"
   ]
  },
  {
   "cell_type": "code",
   "execution_count": 211,
   "metadata": {},
   "outputs": [],
   "source": [
    "import math\n",
    "import numpy\n",
    "\n",
    "def lex_rank(sentences, n, t):\n",
    "    cosine_matrix = numpy.zeros((n, n))\n",
    "    degrees = numpy.zeros((n,))\n",
    "    l = []\n",
    "\n",
    "    for i in range(n):\n",
    "        for j in range(n):\n",
    "            cosine_matrix[i][j] = idf_modified_cosine(sentences, sentences[i], sentences[j])\n",
    "            if cosine_matrix[i][j] > t:\n",
    "                cosine_matrix[i][j] = 1\n",
    "                degrees[i] += 1\n",
    "            else:\n",
    "                cosine_matrix[i][j] = 0\n",
    "\n",
    "    for i in range(n):\n",
    "        for j in range(n):\n",
    "            cosine_matrix[i][j] = cosine_matrix[i][j] / degrees[i]\n",
    "\n",
    "    ratings = power_method(cosine_matrix, n, t)\n",
    "\n",
    "    return zip(sentences, ratings)"
   ]
  },
  {
   "cell_type": "code",
   "execution_count": 200,
   "metadata": {},
   "outputs": [],
   "source": [
    "def idf_modified_cosine(sentences, sentence1, sentence2):\n",
    "    tf1 = compute_tf(sentence1)\n",
    "    tf2 = compute_tf(sentence2)\n",
    "    idf_metrics = compute_idf(sentences)\n",
    "    return cosine_similarity(sentence1, sentence2, tf1, tf2, idf_metrics)"
   ]
  },
  {
   "cell_type": "code",
   "execution_count": 201,
   "metadata": {},
   "outputs": [],
   "source": [
    "from collections import Counter\n",
    "\n",
    "def compute_tf(sentence):\n",
    "    tf_values = Counter(sentence)\n",
    "    tf_metrics = {}\n",
    "\n",
    "    max_tf = find_tf_max(tf_values)\n",
    "\n",
    "    for term, tf in tf_values.items():\n",
    "        tf_metrics[term] = tf / max_tf\n",
    "\n",
    "    return tf_metrics\n",
    "\n",
    "\n",
    "def find_tf_max(terms):\n",
    "    return max(terms.values()) if terms else 1\n",
    "\n",
    "\n",
    "def compute_idf(sentences):\n",
    "    idf_metrics = {}\n",
    "    sentences_count = len(sentences)\n",
    "\n",
    "    for sentence in sentences:\n",
    "        for term in sentence:\n",
    "            if term not in idf_metrics:\n",
    "                n_j = sum(1 for s in sentences if term in s)\n",
    "                idf_metrics[term] = math.log(sentences_count / (1 + n_j))\n",
    "\n",
    "    return idf_metrics\n",
    "\n",
    "\n",
    "def cosine_similarity(sentence1, sentence2, tf1, tf2, idf_metrics):\n",
    "    unique_words1 = set(sentence1)\n",
    "    unique_words2 = set(sentence2)\n",
    "    common_words = unique_words1 & unique_words2\n",
    "\n",
    "    numerator = sum((tf1[t] * tf2[t] * idf_metrics[t] ** 2) for t in common_words)\n",
    "    denominator1 = sum((tf1[t] * idf_metrics[t]) ** 2 for t in unique_words1)\n",
    "    denominator2 = sum((tf2[t] * idf_metrics[t]) ** 2 for t in unique_words2)\n",
    "\n",
    "    if denominator1 > 0 and denominator2 > 0:\n",
    "        return numerator / (math.sqrt(denominator1) * math.sqrt(denominator2))\n",
    "    else:\n",
    "        return 0.0    "
   ]
  },
  {
   "cell_type": "code",
   "execution_count": 202,
   "metadata": {},
   "outputs": [],
   "source": [
    "def power_method(cosine_matrix, n, e):\n",
    "    transposed_matrix = cosine_matrix.T\n",
    "    sentences_count = n\n",
    "\n",
    "    p_vector = numpy.array([1.0 / sentences_count] * sentences_count)\n",
    "\n",
    "    lambda_val = 1.0\n",
    "\n",
    "    while lambda_val > e:\n",
    "        next_p = numpy.dot(transposed_matrix, p_vector)\n",
    "        lambda_val = numpy.linalg.norm(numpy.subtract(next_p, p_vector))\n",
    "        p_vector = next_p\n",
    "\n",
    "    return p_vector"
   ]
  },
  {
   "cell_type": "code",
   "execution_count": 203,
   "metadata": {},
   "outputs": [],
   "source": [
    "def text_cleaner(text):\n",
    "    text_divided = text.splitlines()\n",
    "    text_divided_clean = \" \".join(text_divided)\n",
    "    return text_divided_clean"
   ]
  },
  {
   "cell_type": "markdown",
   "metadata": {},
   "source": [
    "## Summarizing legal text"
   ]
  },
  {
   "cell_type": "code",
   "execution_count": 138,
   "metadata": {},
   "outputs": [],
   "source": [
    "# libraries\n",
    "import json\n",
    "import lzma\n",
    "import pandas as pd\n",
    "import numpy as np\n",
    "from bs4 import BeautifulSoup\n",
    "import re\n",
    "from tqdm import tqdm\n",
    "from IPython.core.display import display, HTML\n",
    "import re\n",
    "from nltk.tokenize import RegexpTokenizer\n",
    "import datetime as dt\n",
    "\n",
    "import matplotlib.pyplot as plt\n",
    "import seaborn as sns\n",
    "sns.set()"
   ]
  },
  {
   "cell_type": "code",
   "execution_count": 139,
   "metadata": {},
   "outputs": [],
   "source": [
    "# defining a fucnction to remove \\n and HTML tags\n",
    "def text_cleaner(text):\n",
    "    text_divided = text.splitlines()\n",
    "    text_divided_clean = \" \".join(text_divided)\n",
    "    return text_divided_clean"
   ]
  },
  {
   "cell_type": "code",
   "execution_count": 140,
   "metadata": {},
   "outputs": [],
   "source": [
    "# The file size for some states are too large to open into memory\n",
    "# This function loads individual cases into memory, parses headnotes and \n",
    "# opinions, cleans the text, tokenizes the text, and returns counts of tokens\n",
    "# for each case.\n",
    "\n",
    "tokenizer = RegexpTokenizer('\\s+', gaps=True)\n",
    "\n",
    "def get_counts(state):\n",
    "    cases = []\n",
    "    with lzma.open(\"../\" + state + '-text/data/data.jsonl.xz', 'r') as jsonl_file:\n",
    "        for case in jsonl_file:\n",
    "            c = json.loads(str(case, 'utf-8'))\n",
    "\n",
    "            date = c['decision_date']\n",
    "            \n",
    "            headnotes = text_cleaner(c['casebody']['data']['head_matter'])\n",
    "            headnotes_tokenized = tokenizer.tokenize(headnotes)\n",
    "            num_headnotes = len(headnotes_tokenized)\n",
    "\n",
    "            opinions = c['casebody']['data']['opinions']\n",
    "            if opinions == []:\n",
    "                num_opinions = 0\n",
    "            else:\n",
    "                opinions = text_cleaner(opinions[0]['text'])\n",
    "                opinions_tokenized = tokenizer.tokenize(opinions)\n",
    "                num_opinions = len(opinions_tokenized)\n",
    "            cases.append({'date':date, 'num_headnotes':num_headnotes, 'headnotes': headnotes, 'num_opinions':num_opinions, 'opinions':opinions})\n",
    "        return pd.DataFrame(cases)"
   ]
  },
  {
   "cell_type": "code",
   "execution_count": 141,
   "metadata": {},
   "outputs": [
    {
     "name": "stdout",
     "output_type": "stream",
     "text": [
      "CPU times: user 46 s, sys: 689 ms, total: 46.7 s\n",
      "Wall time: 46.8 s\n"
     ]
    }
   ],
   "source": [
    "%%time\n",
    "\n",
    "states = ['Arkansas']\n",
    "counts_ar = get_counts(states[0])\n",
    "# counts_il = get_counts(states[1])\n",
    "# counts_nm = get_counts(states[2])\n",
    "# counts_nc = get_counts(states[3])"
   ]
  },
  {
   "cell_type": "code",
   "execution_count": 332,
   "metadata": {},
   "outputs": [
    {
     "data": {
      "text/html": [
       "<div>\n",
       "<style scoped>\n",
       "    .dataframe tbody tr th:only-of-type {\n",
       "        vertical-align: middle;\n",
       "    }\n",
       "\n",
       "    .dataframe tbody tr th {\n",
       "        vertical-align: top;\n",
       "    }\n",
       "\n",
       "    .dataframe thead th {\n",
       "        text-align: right;\n",
       "    }\n",
       "</style>\n",
       "<table border=\"1\" class=\"dataframe\">\n",
       "  <thead>\n",
       "    <tr style=\"text-align: right;\">\n",
       "      <th></th>\n",
       "      <th>date</th>\n",
       "      <th>num_headnotes</th>\n",
       "      <th>headnotes</th>\n",
       "      <th>num_opinions</th>\n",
       "      <th>opinions</th>\n",
       "    </tr>\n",
       "  </thead>\n",
       "  <tbody>\n",
       "    <tr>\n",
       "      <th>0</th>\n",
       "      <td>1829-11</td>\n",
       "      <td>29</td>\n",
       "      <td>Case No. 4,822a. FISHER v. REIDER. [Hempst. 82...</td>\n",
       "      <td>230</td>\n",
       "      <td>OPINION OF THE COIÍRT. This is an action of de...</td>\n",
       "    </tr>\n",
       "    <tr>\n",
       "      <th>1</th>\n",
       "      <td>1828-05</td>\n",
       "      <td>28</td>\n",
       "      <td>Case No. 4,785a. FIKES v. BENTLEY. [Hempst. 61...</td>\n",
       "      <td>62</td>\n",
       "      <td>OPINION OP THE COURT. This is an appeal from t...</td>\n",
       "    </tr>\n",
       "    <tr>\n",
       "      <th>2</th>\n",
       "      <td>1836-02</td>\n",
       "      <td>27</td>\n",
       "      <td>Case No. 4,863a. FLETCHER v. ELLIS. [Hempst. 3...</td>\n",
       "      <td>616</td>\n",
       "      <td>CROSS, Judge. The record in this case shows th...</td>\n",
       "    </tr>\n",
       "    <tr>\n",
       "      <th>3</th>\n",
       "      <td>1999-07-15</td>\n",
       "      <td>46</td>\n",
       "      <td>Michael NORRIS v. STATE of Arkansas CR 98-1429...</td>\n",
       "      <td>3936</td>\n",
       "      <td>W. H.“Dub” Arnold, Chief Justice. This is a ca...</td>\n",
       "    </tr>\n",
       "    <tr>\n",
       "      <th>4</th>\n",
       "      <td>1999-10-07</td>\n",
       "      <td>39</td>\n",
       "      <td>Roger Allen HAMMON v. STATE of Arkansas CR 98-...</td>\n",
       "      <td>1788</td>\n",
       "      <td>Ray Thornton, Justice. Appellant brings this a...</td>\n",
       "    </tr>\n",
       "    <tr>\n",
       "      <th>5</th>\n",
       "      <td>1999-10-07</td>\n",
       "      <td>49</td>\n",
       "      <td>Joe Louis DANSBY v. STATE of Arkansas CR 97-14...</td>\n",
       "      <td>8076</td>\n",
       "      <td>Annabelle Clinton Imber, Justice. Mr. Joe Loui...</td>\n",
       "    </tr>\n",
       "    <tr>\n",
       "      <th>6</th>\n",
       "      <td>1999-06-10</td>\n",
       "      <td>38</td>\n",
       "      <td>David McGREW v. STATE of Arkansas CR 98-426 99...</td>\n",
       "      <td>848</td>\n",
       "      <td>W. H.“Dub” Arnold, Chief Justice. The appellan...</td>\n",
       "    </tr>\n",
       "    <tr>\n",
       "      <th>7</th>\n",
       "      <td>1999-07-01</td>\n",
       "      <td>64</td>\n",
       "      <td>ST. PAUL FIRE &amp; MARINE INSURANCE COMPANY v. GR...</td>\n",
       "      <td>3050</td>\n",
       "      <td>Robert L. Brown, Justice. Appellant St. Paul F...</td>\n",
       "    </tr>\n",
       "    <tr>\n",
       "      <th>8</th>\n",
       "      <td>1999-10-14</td>\n",
       "      <td>36</td>\n",
       "      <td>Sylvester RICHARDS v. STATE of Arkansas CR 99-...</td>\n",
       "      <td>909</td>\n",
       "      <td>Lavenski R. Smith, Justice. Appellant, Sylvest...</td>\n",
       "    </tr>\n",
       "    <tr>\n",
       "      <th>9</th>\n",
       "      <td>1999-10-14</td>\n",
       "      <td>35</td>\n",
       "      <td>Patricia OSBURN v. Bryan BUSBEE d/b/a Busbee C...</td>\n",
       "      <td>303</td>\n",
       "      <td>Per Curiam. Appellee Bryan Busbee, d/b/a Busbe...</td>\n",
       "    </tr>\n",
       "    <tr>\n",
       "      <th>10</th>\n",
       "      <td>1999-09-16</td>\n",
       "      <td>35</td>\n",
       "      <td>STATE of Arkansas v. Kenneth STRAWBRIDGE CR 96...</td>\n",
       "      <td>105</td>\n",
       "      <td>Per Curiam. The State of Arkansas has petition...</td>\n",
       "    </tr>\n",
       "    <tr>\n",
       "      <th>11</th>\n",
       "      <td>1999-09-16</td>\n",
       "      <td>43</td>\n",
       "      <td>Marilyn SMITH and Derrel Smith v. Phillip SMIT...</td>\n",
       "      <td>1208</td>\n",
       "      <td>Donald L. Corbin, Justice. This case involves ...</td>\n",
       "    </tr>\n",
       "    <tr>\n",
       "      <th>12</th>\n",
       "      <td>1999-06-17</td>\n",
       "      <td>28</td>\n",
       "      <td>Roger Don FARMER v. STATE of Arkansas CR 99-62...</td>\n",
       "      <td>98</td>\n",
       "      <td>Per Curiam. Appellant Roger Don Farmer, by and...</td>\n",
       "    </tr>\n",
       "    <tr>\n",
       "      <th>13</th>\n",
       "      <td>1999-06-03</td>\n",
       "      <td>60</td>\n",
       "      <td>GHEGAN &amp; GHEGAN, INC., On Behalf of Itself and...</td>\n",
       "      <td>2430</td>\n",
       "      <td>Annabelle Clinton Imber, Justice. This is an i...</td>\n",
       "    </tr>\n",
       "    <tr>\n",
       "      <th>14</th>\n",
       "      <td>1999-10-14</td>\n",
       "      <td>45</td>\n",
       "      <td>Earnest M. CRIDDLE Jr. v. STATE of Arkansas CR...</td>\n",
       "      <td>2148</td>\n",
       "      <td>Donald L. Corbin, Justice. Appellant Earnest M...</td>\n",
       "    </tr>\n",
       "    <tr>\n",
       "      <th>15</th>\n",
       "      <td>1999-09-16</td>\n",
       "      <td>38</td>\n",
       "      <td>Anthony L. JOHNSON v. STATE of Arkansas CR 99-...</td>\n",
       "      <td>146</td>\n",
       "      <td>Per Curiam. Appellant Anthony L. Johnson has f...</td>\n",
       "    </tr>\n",
       "    <tr>\n",
       "      <th>16</th>\n",
       "      <td>1999-09-30</td>\n",
       "      <td>40</td>\n",
       "      <td>William J. McCUEN v. STATE of Arkansas CR 97-1...</td>\n",
       "      <td>1307</td>\n",
       "      <td>Robert L. Brown, Justice. Appellant William J....</td>\n",
       "    </tr>\n",
       "    <tr>\n",
       "      <th>17</th>\n",
       "      <td>1999-06-17</td>\n",
       "      <td>31</td>\n",
       "      <td>Corey SANDERS v. STATE of Arkansas CR 99-628 9...</td>\n",
       "      <td>189</td>\n",
       "      <td>Per Curiam. Corey Sanders, by his attorney, ha...</td>\n",
       "    </tr>\n",
       "    <tr>\n",
       "      <th>18</th>\n",
       "      <td>1999-06-03</td>\n",
       "      <td>33</td>\n",
       "      <td>Donald MALONE v. Linda MALONE 98-833 991 S.W.2...</td>\n",
       "      <td>1979</td>\n",
       "      <td>Annabelle Clinton Imber, Justice. This appeal ...</td>\n",
       "    </tr>\n",
       "    <tr>\n",
       "      <th>19</th>\n",
       "      <td>1999-09-16</td>\n",
       "      <td>50</td>\n",
       "      <td>Jason N. GATES v. STATE of Arkansas CR 98-1197...</td>\n",
       "      <td>4334</td>\n",
       "      <td>Lavenski R. Smith, Justice. The appellant, Jas...</td>\n",
       "    </tr>\n",
       "  </tbody>\n",
       "</table>\n",
       "</div>"
      ],
      "text/plain": [
       "          date  num_headnotes  \\\n",
       "0      1829-11             29   \n",
       "1      1828-05             28   \n",
       "2      1836-02             27   \n",
       "3   1999-07-15             46   \n",
       "4   1999-10-07             39   \n",
       "5   1999-10-07             49   \n",
       "6   1999-06-10             38   \n",
       "7   1999-07-01             64   \n",
       "8   1999-10-14             36   \n",
       "9   1999-10-14             35   \n",
       "10  1999-09-16             35   \n",
       "11  1999-09-16             43   \n",
       "12  1999-06-17             28   \n",
       "13  1999-06-03             60   \n",
       "14  1999-10-14             45   \n",
       "15  1999-09-16             38   \n",
       "16  1999-09-30             40   \n",
       "17  1999-06-17             31   \n",
       "18  1999-06-03             33   \n",
       "19  1999-09-16             50   \n",
       "\n",
       "                                            headnotes  num_opinions  \\\n",
       "0   Case No. 4,822a. FISHER v. REIDER. [Hempst. 82...           230   \n",
       "1   Case No. 4,785a. FIKES v. BENTLEY. [Hempst. 61...            62   \n",
       "2   Case No. 4,863a. FLETCHER v. ELLIS. [Hempst. 3...           616   \n",
       "3   Michael NORRIS v. STATE of Arkansas CR 98-1429...          3936   \n",
       "4   Roger Allen HAMMON v. STATE of Arkansas CR 98-...          1788   \n",
       "5   Joe Louis DANSBY v. STATE of Arkansas CR 97-14...          8076   \n",
       "6   David McGREW v. STATE of Arkansas CR 98-426 99...           848   \n",
       "7   ST. PAUL FIRE & MARINE INSURANCE COMPANY v. GR...          3050   \n",
       "8   Sylvester RICHARDS v. STATE of Arkansas CR 99-...           909   \n",
       "9   Patricia OSBURN v. Bryan BUSBEE d/b/a Busbee C...           303   \n",
       "10  STATE of Arkansas v. Kenneth STRAWBRIDGE CR 96...           105   \n",
       "11  Marilyn SMITH and Derrel Smith v. Phillip SMIT...          1208   \n",
       "12  Roger Don FARMER v. STATE of Arkansas CR 99-62...            98   \n",
       "13  GHEGAN & GHEGAN, INC., On Behalf of Itself and...          2430   \n",
       "14  Earnest M. CRIDDLE Jr. v. STATE of Arkansas CR...          2148   \n",
       "15  Anthony L. JOHNSON v. STATE of Arkansas CR 99-...           146   \n",
       "16  William J. McCUEN v. STATE of Arkansas CR 97-1...          1307   \n",
       "17  Corey SANDERS v. STATE of Arkansas CR 99-628 9...           189   \n",
       "18  Donald MALONE v. Linda MALONE 98-833 991 S.W.2...          1979   \n",
       "19  Jason N. GATES v. STATE of Arkansas CR 98-1197...          4334   \n",
       "\n",
       "                                             opinions  \n",
       "0   OPINION OF THE COIÍRT. This is an action of de...  \n",
       "1   OPINION OP THE COURT. This is an appeal from t...  \n",
       "2   CROSS, Judge. The record in this case shows th...  \n",
       "3   W. H.“Dub” Arnold, Chief Justice. This is a ca...  \n",
       "4   Ray Thornton, Justice. Appellant brings this a...  \n",
       "5   Annabelle Clinton Imber, Justice. Mr. Joe Loui...  \n",
       "6   W. H.“Dub” Arnold, Chief Justice. The appellan...  \n",
       "7   Robert L. Brown, Justice. Appellant St. Paul F...  \n",
       "8   Lavenski R. Smith, Justice. Appellant, Sylvest...  \n",
       "9   Per Curiam. Appellee Bryan Busbee, d/b/a Busbe...  \n",
       "10  Per Curiam. The State of Arkansas has petition...  \n",
       "11  Donald L. Corbin, Justice. This case involves ...  \n",
       "12  Per Curiam. Appellant Roger Don Farmer, by and...  \n",
       "13  Annabelle Clinton Imber, Justice. This is an i...  \n",
       "14  Donald L. Corbin, Justice. Appellant Earnest M...  \n",
       "15  Per Curiam. Appellant Anthony L. Johnson has f...  \n",
       "16  Robert L. Brown, Justice. Appellant William J....  \n",
       "17  Per Curiam. Corey Sanders, by his attorney, ha...  \n",
       "18  Annabelle Clinton Imber, Justice. This appeal ...  \n",
       "19  Lavenski R. Smith, Justice. The appellant, Jas...  "
      ]
     },
     "execution_count": 332,
     "metadata": {},
     "output_type": "execute_result"
    }
   ],
   "source": [
    "counts_ar.head(20)"
   ]
  },
  {
   "cell_type": "markdown",
   "metadata": {},
   "source": [
    "## Example 1"
   ]
  },
  {
   "cell_type": "code",
   "execution_count": 316,
   "metadata": {},
   "outputs": [],
   "source": [
    "test_opinions = counts_ar.iloc[2,4]"
   ]
  },
  {
   "cell_type": "code",
   "execution_count": 317,
   "metadata": {},
   "outputs": [
    {
     "data": {
      "text/plain": [
       "\"CROSS, Judge. The record in this case shows that the plaintiff in error [Frederick Fletcher] brought an action of trespass on the case against the. defendant [William Ellis], in the Conway circuit court, and in his declaration alleged “that the said plaintiff and one Alexander Rogers, were indebted to Daniel Gilmore in a large sum of money, namely,' in the amount of fifty-five dollars, upon which said Gilmore had brought suit and obtained judgment, and sued out execution against the plaintiff and the said Rogers, and the plaintiff avers that he and Rogers had, in the county of Conway, sufficient goods and chattels to have satisfied the execution, and the plaintiff avers that the defendant being an evil disposed person, fond of encouraging litigation and fomenting strife, and wishing to harass, impoverish, and distress the plaintiff, did, on the first day of October, 1834, at the county of Conway, and within the jurisdiction of this court, maliciously persuade and procure the said Daniel Gilmore, by offering him to pay all costs and charges, and to see his debt made secure, to have the plaintiff's body taken in execution; and by reason of the defendant’s procurements by his several offers and promises as aforesaid made, the plaintiff’s body was taken in execution.” It also appears that the defendant filed a demurrer to the declaration, which was sustained by the court. The writ of error is prosecuted to reverse the judgment sustaining the demurrer. A mere glance at the declaration will show that it has been drawn by an extremely careless pleader. The object of the action doubtless was, to charge the defendant for a maintenance, which is defined to be an officious intermeddling in a suit depending in a court, with which the person so intermeddling has nothing to do, by assisting the plaintiff or defendant in the prosecution of such suit. Co. Litt. 358; 2 Inst. 213. The court is not designated in which the suit was pending, nor is the time or place alleged when arid where the execution issued or into whose hands it came. The allegation is in relation to the maintenance, that the defendant offered Gilmore to pay costs and charges, and to see that his debt was secured. Between a mere offer to assist and assistance, there is certainly a material difference, for without the latter, the maintenance is not committed at all. So far as anything can be collected on the subject from the declaration, it seems that at the time the offer was made to pay costs and see the debt secured, an execution was rightfully in the hands of an officer of some kind, and the plaintiff and Rogers had a sufficiency of property in the county to satisfy it If so, the defendant’s offers were made in relation to a matter over which neither he nor Gilmore had any control, as the officer was legally bound in the first place, to levy on and dispose of the property in satisfaction of the writ, notwithstanding the plaintiff in execution might have instructed him to arrest the body of the defendant That an action lies in this country for maintenance, we entertain but little doubt Tet it certainly would be necessary, in order to sustain such an action, to allege not only the pendency of a suit but designate the particular court in which it was depending, together with time and circumstances, none of which requisites exist in the case before ns. Indeed, there is scarcely a single requisite stated necessary to constitute a maintenance, and we have seldom had occasion to examine a declaration in which there was so frail a cause of action set forth. Judgment affirmed.\""
      ]
     },
     "execution_count": 317,
     "metadata": {},
     "output_type": "execute_result"
    }
   ],
   "source": [
    "test_opinions"
   ]
  },
  {
   "cell_type": "code",
   "execution_count": 318,
   "metadata": {},
   "outputs": [],
   "source": [
    "# Reference: https://nlpforhackers.io/splitting-text-into-sentences/\n",
    "\n",
    "from pprint import pprint\n",
    "from nltk.tokenize.punkt import PunktSentenceTokenizer, PunktTrainer\n",
    " \n",
    "trainer = PunktTrainer()\n",
    "trainer.INCLUDE_ALL_COLLOCS = True\n",
    "trainer.train(test_opinions)\n",
    " \n",
    "tokenizer = PunktSentenceTokenizer(trainer.get_params())"
   ]
  },
  {
   "cell_type": "code",
   "execution_count": 319,
   "metadata": {},
   "outputs": [],
   "source": [
    "test_opinions_list = tokenizer.tokenize(test_opinions)"
   ]
  },
  {
   "cell_type": "code",
   "execution_count": 320,
   "metadata": {},
   "outputs": [],
   "source": [
    "def text_summarizer(text, n, t=1):\n",
    "    \"\"\"\n",
    "    n: number of sentences\n",
    "    t: error tolerance\n",
    "    \"\"\"\n",
    "    words_list = []\n",
    "    for i in range(len(text)):\n",
    "        words = text[i].split()\n",
    "        words_list.append(words)\n",
    "    zipped = lex_rank(words_list, len(text), t)\n",
    "    unzipped = list(zip(*zipped))\n",
    "    scores = np.array(unzipped[1])\n",
    "    highest_index = scores.argsort()[-n:][::-1]\n",
    "    summarized = []\n",
    "    high_scores = []\n",
    "    for i in range(len(highest_index)):\n",
    "        sentence = text[i]\n",
    "        score = scores[i]\n",
    "        high_scores.append(score)\n",
    "        summarized.append(sentence)     \n",
    "    print(\"\\nOriginally\", len(text), \"sentences\\n\")\n",
    "    print(\"Summarized in\", n, \"sentences\\n\")\n",
    "    print(\"Summarized:  \", summarized,\"\\n\")\n",
    "    print(\"Score for each sentence:  \", high_scores)"
   ]
  },
  {
   "cell_type": "code",
   "execution_count": 330,
   "metadata": {},
   "outputs": [
    {
     "name": "stdout",
     "output_type": "stream",
     "text": [
      "\n",
      "Originally 14 sentences\n",
      "\n",
      "Summarized in 4 sentences\n",
      "\n",
      "Summarized:   ['CROSS, Judge.', 'The record in this case shows that the plaintiff in error [Frederick Fletcher] brought an action of trespass on the case against the.', \"defendant [William Ellis], in the Conway circuit court, and in his declaration alleged “that the said plaintiff and one Alexander Rogers, were indebted to Daniel Gilmore in a large sum of money, namely,' in the amount of fifty-five dollars, upon which said Gilmore had brought suit and obtained judgment, and sued out execution against the plaintiff and the said Rogers, and the plaintiff avers that he and Rogers had, in the county of Conway, sufficient goods and chattels to have satisfied the execution, and the plaintiff avers that the defendant being an evil disposed person, fond of encouraging litigation and fomenting strife, and wishing to harass, impoverish, and distress the plaintiff, did, on the first day of October, 1834, at the county of Conway, and within the jurisdiction of this court, maliciously persuade and procure the said Daniel Gilmore, by offering him to pay all costs and charges, and to see his debt made secure, to have the plaintiff's body taken in execution; and by reason of the defendant’s procurements by his several offers and promises as aforesaid made, the plaintiff’s body was taken in execution.” It also appears that the defendant filed a demurrer to the declaration, which was sustained by the court.\", 'The writ of error is prosecuted to reverse the judgment sustaining the demurrer.'] \n",
      "\n",
      "Score for each sentence:   [0.07142857142857142, 0.08231292517006802, 0.08231292517006801, 0.049999999999999996]\n",
      "CPU times: user 365 ms, sys: 2.98 ms, total: 368 ms\n",
      "Wall time: 369 ms\n"
     ]
    }
   ],
   "source": [
    "%%time\n",
    "\n",
    "# 616 words\n",
    "text_summarizer(test_opinions_list, 4, 0.1)"
   ]
  },
  {
   "cell_type": "markdown",
   "metadata": {},
   "source": [
    "## Example 2"
   ]
  },
  {
   "cell_type": "code",
   "execution_count": 322,
   "metadata": {},
   "outputs": [],
   "source": [
    "test2_opinions = counts_ar.iloc[6,4]\n",
    "test2_opinions_list = tokenizer.tokenize(test2_opinions)"
   ]
  },
  {
   "cell_type": "code",
   "execution_count": 340,
   "metadata": {},
   "outputs": [
    {
     "name": "stdout",
     "output_type": "stream",
     "text": [
      "\n",
      "Originally 64 sentences\n",
      "\n",
      "Summarized in 5 sentences\n",
      "\n",
      "Summarized:   ['W. H.“Dub” Arnold, Chief Justice.', 'The appellant, David McGrew, was found guilty of misdemeanor sexual misconduct involving a minor and was sentenced to ninety days in the Mississippi County jad and fined $500.00.', 'On appeal, McGrew challenges (1) the denial of his motion to dismiss, based upon his prosecution for a misdemeanor offense more than one year after the commission of the offense, (2) the admission of rebuttal testimony, and (3) the sufficiency of the evidence.', 'We accepted certification of this case from the Court of Appeals in order to resolve an issue of first impression, specifically, the application of Ark.', 'Code Ann.'] \n",
      "\n",
      "Score for each sentence:   [0.015625, 0.012431795634920636, 0.023004150669591845, 0.022475658022533023, 0.015625]\n",
      "CPU times: user 16.6 s, sys: 20 ms, total: 16.6 s\n",
      "Wall time: 16.7 s\n"
     ]
    }
   ],
   "source": [
    "%%time\n",
    "\n",
    "# 848 words\n",
    "text_summarizer(test2_opinions_list, 5, 0.1)"
   ]
  },
  {
   "cell_type": "markdown",
   "metadata": {},
   "source": [
    "## Example 3"
   ]
  },
  {
   "cell_type": "code",
   "execution_count": 326,
   "metadata": {},
   "outputs": [],
   "source": [
    "test3_opinions = counts_ar.iloc[4,4]\n",
    "test3_opinions_list = tokenizer.tokenize(test3_opinions)"
   ]
  },
  {
   "cell_type": "code",
   "execution_count": 331,
   "metadata": {},
   "outputs": [
    {
     "name": "stdout",
     "output_type": "stream",
     "text": [
      "\n",
      "Originally 107 sentences\n",
      "\n",
      "Summarized in 3 sentences\n",
      "\n",
      "Summarized:   ['Ray Thornton, Justice.', 'Appellant brings this appeal of his conviction for capital murder in the shooting death of Roger Cousins on May 29, 1998, urging that the trial court erred in admitting the victim’s dying declaration naming appellant as his assailant.', 'We find no error and affirm appellant’s conviction and sentence of life imprisonment.'] \n",
      "\n",
      "Score for each sentence:   [0.009345794392523364, 0.014806203508787346, 0.006972311177918654]\n",
      "CPU times: user 2min 42s, sys: 71.2 ms, total: 2min 42s\n",
      "Wall time: 2min 42s\n"
     ]
    }
   ],
   "source": [
    "%%time\n",
    "\n",
    "# 1788 words\n",
    "text_summarizer(test3_opinions_list, 3, 0.1)"
   ]
  },
  {
   "cell_type": "markdown",
   "metadata": {},
   "source": [
    "## Example 4"
   ]
  },
  {
   "cell_type": "code",
   "execution_count": 333,
   "metadata": {},
   "outputs": [],
   "source": [
    "test4_opinions = counts_ar.iloc[3,4]\n",
    "test4_opinions_list = tokenizer.tokenize(test4_opinions)"
   ]
  },
  {
   "cell_type": "code",
   "execution_count": 334,
   "metadata": {},
   "outputs": [
    {
     "name": "stdout",
     "output_type": "stream",
     "text": [
      "\n",
      "Originally 208 sentences\n",
      "\n",
      "Summarized in 5 sentences\n",
      "\n",
      "Summarized:   ['W. H.“Dub” Arnold, Chief Justice.', 'This is a case involving warrantless activity surrounding entry into the appellant’s home and his eventual arrest for the offense of driving while intoxicated, first offense.', 'On December 21, 1997, at approximately 1:00 p.m., appellant was allegedly seen driving erratically by another driver.', 'The citizen followed appellant to his home and called the police.', 'Based on the citizen’s information, the officer approached appellant’s home, where he was admitted into the house by appellant’s visiting mother-in-law, Ms.'] \n",
      "\n",
      "Score for each sentence:   [0.004807692307692308, 0.007964789137740697, 0.0027243589743589742, 0.001945240043644299, 0.005007451839366661]\n",
      "CPU times: user 37min 8s, sys: 3.62 s, total: 37min 11s\n",
      "Wall time: 37min 16s\n"
     ]
    }
   ],
   "source": [
    "%%time\n",
    "\n",
    "# 3936 words\n",
    "text_summarizer(test4_opinions_list, 5, 0.1)"
   ]
  },
  {
   "cell_type": "markdown",
   "metadata": {},
   "source": [
    "## Filtering"
   ]
  },
  {
   "cell_type": "code",
   "execution_count": 337,
   "metadata": {},
   "outputs": [
    {
     "data": {
      "text/plain": [
       "'Michael NORRIS v. STATE of Arkansas CR 98-1429 993 S.W.2d 918 Supreme Court of Arkansas Opinion delivered July 15, 1999 [Supplemental opinion on grant of rehearing issued September 16, 1999.] Doug Norwood, for appellant. Mark Pryor, Att’y Gen., by: Vada Berger, Ass’t Att’y Gen., for appellee.'"
      ]
     },
     "execution_count": 337,
     "metadata": {},
     "output_type": "execute_result"
    }
   ],
   "source": [
    "counts_ar.iloc[3,2]"
   ]
  },
  {
   "cell_type": "code",
   "execution_count": null,
   "metadata": {},
   "outputs": [],
   "source": []
  }
 ],
 "metadata": {
  "kernelspec": {
   "display_name": "Python 3",
   "language": "python",
   "name": "python3"
  },
  "language_info": {
   "codemirror_mode": {
    "name": "ipython",
    "version": 3
   },
   "file_extension": ".py",
   "mimetype": "text/x-python",
   "name": "python",
   "nbconvert_exporter": "python",
   "pygments_lexer": "ipython3",
   "version": "3.7.6"
  }
 },
 "nbformat": 4,
 "nbformat_minor": 4
}
