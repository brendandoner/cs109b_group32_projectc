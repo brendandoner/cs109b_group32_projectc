{
 "cells": [
  {
   "cell_type": "code",
   "execution_count": 1,
   "metadata": {},
   "outputs": [],
   "source": [
    "import json\n",
    "import lzma\n",
    "import pandas as pd\n",
    "import numpy as np\n",
    "from bs4 import BeautifulSoup\n",
    "import re\n",
    "from tqdm import tqdm\n",
    "from IPython.core.display import display, HTML"
   ]
  },
  {
   "cell_type": "code",
   "execution_count": 2,
   "metadata": {},
   "outputs": [],
   "source": [
    "cases = []\n",
    "with lzma.open('../Arkansas-xml/data/data.jsonl.xz', 'r') as jsonl_file:\n",
    "    for case in jsonl_file:\n",
    "        cases.append(json.loads(str(case, 'utf-8')))\n",
    "df = pd.DataFrame(cases).sort_values('decision_date').reset_index(drop=True)"
   ]
  },
  {
   "cell_type": "code",
   "execution_count": 3,
   "metadata": {},
   "outputs": [
    {
     "data": {
      "text/plain": [
       "59735"
      ]
     },
     "execution_count": 3,
     "metadata": {},
     "output_type": "execute_result"
    }
   ],
   "source": [
    "len(cases)"
   ]
  },
  {
   "cell_type": "code",
   "execution_count": 4,
   "metadata": {},
   "outputs": [
    {
     "name": "stderr",
     "output_type": "stream",
     "text": [
      "100%|██████████| 59735/59735 [02:25<00:00, 411.39it/s]\n"
     ]
    }
   ],
   "source": [
    "storage = []\n",
    "for i in tqdm(range(df.shape[0])):\n",
    "    soup = BeautifulSoup(df.iloc[i,15]['data'])\n",
    "    headnotes = soup.find_all('headnotes')\n",
    "    headnotes_clean = [headnote.get_text() for headnote in headnotes]\n",
    "    # removing headnotes from the body text\n",
    "    for headnote in soup.find_all('headnotes'):\n",
    "        unwanted = headnote\n",
    "        unwanted.extract()\n",
    "    body_text = soup.get_text()\n",
    "    storage.append({'headnotes_num': len(headnotes_clean),\n",
    "                    'headnotes': headnotes_clean,\n",
    "                   'body': body_text})"
   ]
  },
  {
   "cell_type": "code",
   "execution_count": 5,
   "metadata": {},
   "outputs": [
    {
     "data": {
      "text/html": [
       "<div>\n",
       "<style scoped>\n",
       "    .dataframe tbody tr th:only-of-type {\n",
       "        vertical-align: middle;\n",
       "    }\n",
       "\n",
       "    .dataframe tbody tr th {\n",
       "        vertical-align: top;\n",
       "    }\n",
       "\n",
       "    .dataframe thead th {\n",
       "        text-align: right;\n",
       "    }\n",
       "</style>\n",
       "<table border=\"1\" class=\"dataframe\">\n",
       "  <thead>\n",
       "    <tr style=\"text-align: right;\">\n",
       "      <th></th>\n",
       "      <th>headnotes_num</th>\n",
       "      <th>headnotes</th>\n",
       "      <th>body</th>\n",
       "    </tr>\n",
       "  </thead>\n",
       "  <tbody>\n",
       "    <tr>\n",
       "      <th>0</th>\n",
       "      <td>4</td>\n",
       "      <td>[Case ¡No. 14,967a., Rape—Indictment—Jury., 1....</td>\n",
       "      <td>\\n\\nUNITED STATES v. DICKINSON.\\n[Hempst 1.] 2...</td>\n",
       "    </tr>\n",
       "    <tr>\n",
       "      <th>1</th>\n",
       "      <td>2</td>\n",
       "      <td>[1. It is not a fatal defect in an indictment ...</td>\n",
       "      <td>\\nThe United States vs. Thomas Dickinson.\\n\\n\\...</td>\n",
       "    </tr>\n",
       "  </tbody>\n",
       "</table>\n",
       "</div>"
      ],
      "text/plain": [
       "   headnotes_num                                          headnotes  \\\n",
       "0              4  [Case ¡No. 14,967a., Rape—Indictment—Jury., 1....   \n",
       "1              2  [1. It is not a fatal defect in an indictment ...   \n",
       "\n",
       "                                                body  \n",
       "0  \\n\\nUNITED STATES v. DICKINSON.\\n[Hempst 1.] 2...  \n",
       "1  \\nThe United States vs. Thomas Dickinson.\\n\\n\\...  "
      ]
     },
     "execution_count": 5,
     "metadata": {},
     "output_type": "execute_result"
    }
   ],
   "source": [
    "df_parsed = pd.DataFrame(storage)\n",
    "df_parsed.head(2)"
   ]
  },
  {
   "cell_type": "code",
   "execution_count": 6,
   "metadata": {},
   "outputs": [
    {
     "data": {
      "text/html": [
       "<div>\n",
       "<style scoped>\n",
       "    .dataframe tbody tr th:only-of-type {\n",
       "        vertical-align: middle;\n",
       "    }\n",
       "\n",
       "    .dataframe tbody tr th {\n",
       "        vertical-align: top;\n",
       "    }\n",
       "\n",
       "    .dataframe thead th {\n",
       "        text-align: right;\n",
       "    }\n",
       "</style>\n",
       "<table border=\"1\" class=\"dataframe\">\n",
       "  <thead>\n",
       "    <tr style=\"text-align: right;\">\n",
       "      <th></th>\n",
       "      <th>headnotes_num</th>\n",
       "      <th>headnotes</th>\n",
       "      <th>body</th>\n",
       "      <th>id</th>\n",
       "      <th>url</th>\n",
       "      <th>name</th>\n",
       "      <th>name_abbreviation</th>\n",
       "      <th>decision_date</th>\n",
       "      <th>docket_number</th>\n",
       "      <th>first_page</th>\n",
       "      <th>last_page</th>\n",
       "      <th>citations</th>\n",
       "      <th>volume</th>\n",
       "      <th>reporter</th>\n",
       "      <th>court</th>\n",
       "      <th>jurisdiction</th>\n",
       "      <th>frontend_url</th>\n",
       "      <th>preview</th>\n",
       "      <th>casebody</th>\n",
       "    </tr>\n",
       "  </thead>\n",
       "  <tbody>\n",
       "    <tr>\n",
       "      <th>0</th>\n",
       "      <td>4</td>\n",
       "      <td>[Case ¡No. 14,967a., Rape—Indictment—Jury., 1....</td>\n",
       "      <td>\\n\\nUNITED STATES v. DICKINSON.\\n[Hempst 1.] 2...</td>\n",
       "      <td>6611556</td>\n",
       "      <td>https://api.capapi.org/v1/cases/6611556/</td>\n",
       "      <td>UNITED STATES v. DICKINSON</td>\n",
       "      <td>United States v. Dickinson</td>\n",
       "      <td>1820-01</td>\n",
       "      <td></td>\n",
       "      <td>849</td>\n",
       "      <td>850</td>\n",
       "      <td>[{'type': 'official', 'cite': '25 F. Cas. 849'...</td>\n",
       "      <td>{'url': 'https://api.capapi.org/v1/volumes/NOT...</td>\n",
       "      <td>{'url': 'https://api.capapi.org/v1/reporters/9...</td>\n",
       "      <td>{'url': 'https://api.capapi.org/v1/courts/ark-...</td>\n",
       "      <td>{'name': 'Ark.', 'name_long': 'Arkansas', 'whi...</td>\n",
       "      <td>https://cite.capapi.org/f-cas/25/849/6611556/</td>\n",
       "      <td>[]</td>\n",
       "      <td>{'data': '&lt;casebody firstpage=\"849\" lastpage=\"...</td>\n",
       "    </tr>\n",
       "    <tr>\n",
       "      <th>1</th>\n",
       "      <td>2</td>\n",
       "      <td>[1. It is not a fatal defect in an indictment ...</td>\n",
       "      <td>\\nThe United States vs. Thomas Dickinson.\\n\\n\\...</td>\n",
       "      <td>236605</td>\n",
       "      <td>https://api.capapi.org/v1/cases/236605/</td>\n",
       "      <td>The United States vs. Thomas Dickinson</td>\n",
       "      <td>United States v. Dickinson</td>\n",
       "      <td>1820-01</td>\n",
       "      <td></td>\n",
       "      <td>1</td>\n",
       "      <td>3</td>\n",
       "      <td>[{'type': 'official', 'cite': '1 Ark. Terr. Re...</td>\n",
       "      <td>{'url': 'https://api.capapi.org/v1/volumes/320...</td>\n",
       "      <td>{'url': 'https://api.capapi.org/v1/reporters/6...</td>\n",
       "      <td>{'url': 'https://api.capapi.org/v1/courts/ark-...</td>\n",
       "      <td>{'name': 'Ark.', 'name_long': 'Arkansas', 'whi...</td>\n",
       "      <td>https://cite.capapi.org/ark-terr-rep/1/1/</td>\n",
       "      <td>[]</td>\n",
       "      <td>{'data': '&lt;casebody firstpage=\"1\" lastpage=\"3\"...</td>\n",
       "    </tr>\n",
       "  </tbody>\n",
       "</table>\n",
       "</div>"
      ],
      "text/plain": [
       "   headnotes_num                                          headnotes  \\\n",
       "0              4  [Case ¡No. 14,967a., Rape—Indictment—Jury., 1....   \n",
       "1              2  [1. It is not a fatal defect in an indictment ...   \n",
       "\n",
       "                                                body       id  \\\n",
       "0  \\n\\nUNITED STATES v. DICKINSON.\\n[Hempst 1.] 2...  6611556   \n",
       "1  \\nThe United States vs. Thomas Dickinson.\\n\\n\\...   236605   \n",
       "\n",
       "                                        url  \\\n",
       "0  https://api.capapi.org/v1/cases/6611556/   \n",
       "1   https://api.capapi.org/v1/cases/236605/   \n",
       "\n",
       "                                     name           name_abbreviation  \\\n",
       "0              UNITED STATES v. DICKINSON  United States v. Dickinson   \n",
       "1  The United States vs. Thomas Dickinson  United States v. Dickinson   \n",
       "\n",
       "  decision_date docket_number first_page last_page  \\\n",
       "0       1820-01                      849       850   \n",
       "1       1820-01                        1         3   \n",
       "\n",
       "                                           citations  \\\n",
       "0  [{'type': 'official', 'cite': '25 F. Cas. 849'...   \n",
       "1  [{'type': 'official', 'cite': '1 Ark. Terr. Re...   \n",
       "\n",
       "                                              volume  \\\n",
       "0  {'url': 'https://api.capapi.org/v1/volumes/NOT...   \n",
       "1  {'url': 'https://api.capapi.org/v1/volumes/320...   \n",
       "\n",
       "                                            reporter  \\\n",
       "0  {'url': 'https://api.capapi.org/v1/reporters/9...   \n",
       "1  {'url': 'https://api.capapi.org/v1/reporters/6...   \n",
       "\n",
       "                                               court  \\\n",
       "0  {'url': 'https://api.capapi.org/v1/courts/ark-...   \n",
       "1  {'url': 'https://api.capapi.org/v1/courts/ark-...   \n",
       "\n",
       "                                        jurisdiction  \\\n",
       "0  {'name': 'Ark.', 'name_long': 'Arkansas', 'whi...   \n",
       "1  {'name': 'Ark.', 'name_long': 'Arkansas', 'whi...   \n",
       "\n",
       "                                    frontend_url preview  \\\n",
       "0  https://cite.capapi.org/f-cas/25/849/6611556/      []   \n",
       "1      https://cite.capapi.org/ark-terr-rep/1/1/      []   \n",
       "\n",
       "                                            casebody  \n",
       "0  {'data': '<casebody firstpage=\"849\" lastpage=\"...  \n",
       "1  {'data': '<casebody firstpage=\"1\" lastpage=\"3\"...  "
      ]
     },
     "execution_count": 6,
     "metadata": {},
     "output_type": "execute_result"
    }
   ],
   "source": [
    "df_headnotes = df_parsed.merge(df, left_index=True, right_index=True)\n",
    "df_headnotes.head(2)"
   ]
  }
 ],
 "metadata": {
  "kernelspec": {
   "display_name": "Python 3",
   "language": "python",
   "name": "python3"
  },
  "language_info": {
   "codemirror_mode": {
    "name": "ipython",
    "version": 3
   },
   "file_extension": ".py",
   "mimetype": "text/x-python",
   "name": "python",
   "nbconvert_exporter": "python",
   "pygments_lexer": "ipython3",
   "version": "3.7.6"
  }
 },
 "nbformat": 4,
 "nbformat_minor": 4
}
