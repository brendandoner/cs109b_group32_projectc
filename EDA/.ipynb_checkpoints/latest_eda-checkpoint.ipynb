{
 "cells": [
  {
   "cell_type": "code",
   "execution_count": 1,
   "metadata": {},
   "outputs": [],
   "source": [
    "# libraries\n",
    "\n",
    "import json\n",
    "import lzma\n",
    "import pandas as pd\n",
    "import numpy as np\n",
    "from bs4 import BeautifulSoup\n",
    "import re\n",
    "from tqdm import tqdm\n",
    "from IPython.core.display import display, HTML\n",
    "import re\n",
    "\n",
    "from IPython.core.interactiveshell import InteractiveShell\n",
    "InteractiveShell.ast_node_interactivity = \"all\"\n",
    "\n",
    "pd.options.display.max_columns = 999\n",
    "pd.options.display.max_rows = 999"
   ]
  },
  {
   "cell_type": "code",
   "execution_count": 2,
   "metadata": {},
   "outputs": [
    {
     "name": "stdout",
     "output_type": "stream",
     "text": [
      "{'id': 11640036, 'url': 'https://api.capapi.org/v1/cases/11640036/', 'name': 'FISHER v. REIDER', 'name_abbreviation': 'Fisher v. Reider', 'decision_date': '1829-11', 'docket_number': 'Case No. 4,822a', 'first_page': '137', 'last_page': '138', 'citations': [{'type': 'official', 'cite': '9 F. Cas. 137'}], 'volume': {'url': 'https://api.capapi.org/v1/volumes/32044054565676/', 'barcode': '32044054565676', 'volume_number': '9'}, 'reporter': {'url': 'https://api.capapi.org/v1/reporters/942/', 'full_name': 'Federal Cases', 'id': 942}, 'court': {'url': 'https://api.capapi.org/v1/courts/ark-super-ct-1/', 'name_abbreviation': 'Ark. Super. Ct.', 'slug': 'ark-super-ct-1', 'name': 'Superior Court of the Territory of Arkansas', 'id': 9132}, 'jurisdiction': {'name': 'Ark.', 'name_long': 'Arkansas', 'whitelisted': True, 'url': 'https://api.capapi.org/v1/jurisdictions/ark/', 'id': 34, 'slug': 'ark'}, 'frontend_url': 'https://cite.capapi.org/f-cas/9/137/', 'preview': [], 'casebody': {'data': {'judges': ['Before JOHNSON, ESKRIDGE, BATES, and TRIMBLE, Judges.'], 'attorneys': [], 'opinions': [{'type': 'majority', 'text': 'OPINION OF THE COIÍRT. This is an action of debt brought by the appellee against the appellant in the circuit court of Pulaski county, and comes to this court by appeal. It appears from the record, that the defendant in the court below filed his plea of payment, to which the plaintiff replied; and the defendant refusing to join issue by adding a similiter, a judgment on that account was rendered against him, and he now contends that this judgment should be reversed.\\nThe judgment, although not strictly and formally correct, is certainly substantially good, and ought not to be reversed at the instance of the appellant, who was in fault in not completing the pleadings. Admitting the English practice, in a case like this, to be, to strike out the plea and enter judgment by default, it is not perceived what advantage it has over the practice heretofore adopt ed by this court in the case of Russell v. Flanakin [unreported], in which a judgment precisely similar was entered. The defendant in refusing to join issue abandoned his defence, and the plea, though not actually, was virtually, stricken out. It is a mere matter of form, and when substantial justice has been done between the parties, this court would be unwilling to reverse the judgment of the inferior court on mere technical objections of a doubtful character. Judgment affirmed.', 'author': None}], 'head_matter': 'Case No. 4,822a.\\nFISHER v. REIDER.\\n[Hempst. 82.]\\nSuperior Court, Territory of Arkansas.\\nNov., 1829.\\nBefore JOHNSON, ESKRIDGE, BATES, and TRIMBLE, Judges.\\n1\\n[Reported by Samuel H. Hempstead, Esq.]', 'corrections': ''}, 'status': 'ok'}}\n"
     ]
    }
   ],
   "source": [
    "# using Arkansas-20200302-text not -xml\n",
    "# taking a look at one case as an example\n",
    "with lzma.open('Arkansas-text/data/data.jsonl.xz', 'r') as jsonl_file:\n",
    "    for index, line in enumerate(jsonl_file):\n",
    "        if index == 0:\n",
    "            print(json.loads(line))"
   ]
  },
  {
   "cell_type": "code",
   "execution_count": 3,
   "metadata": {},
   "outputs": [
    {
     "ename": "FileNotFoundError",
     "evalue": "[Errno 2] No such file or directory: 'Arkansas_1/data/data.jsonl.xz'",
     "output_type": "error",
     "traceback": [
      "\u001b[0;31m---------------------------------------------------------------------------\u001b[0m",
      "\u001b[0;31mFileNotFoundError\u001b[0m                         Traceback (most recent call last)",
      "\u001b[0;32m<timed exec>\u001b[0m in \u001b[0;36m<module>\u001b[0;34m\u001b[0m\n",
      "\u001b[0;32m~/opt/anaconda3/lib/python3.7/lzma.py\u001b[0m in \u001b[0;36mopen\u001b[0;34m(filename, mode, format, check, preset, filters, encoding, errors, newline)\u001b[0m\n\u001b[1;32m    300\u001b[0m     \u001b[0mlz_mode\u001b[0m \u001b[0;34m=\u001b[0m \u001b[0mmode\u001b[0m\u001b[0;34m.\u001b[0m\u001b[0mreplace\u001b[0m\u001b[0;34m(\u001b[0m\u001b[0;34m\"t\"\u001b[0m\u001b[0;34m,\u001b[0m \u001b[0;34m\"\"\u001b[0m\u001b[0;34m)\u001b[0m\u001b[0;34m\u001b[0m\u001b[0;34m\u001b[0m\u001b[0m\n\u001b[1;32m    301\u001b[0m     binary_file = LZMAFile(filename, lz_mode, format=format, check=check,\n\u001b[0;32m--> 302\u001b[0;31m                            preset=preset, filters=filters)\n\u001b[0m\u001b[1;32m    303\u001b[0m \u001b[0;34m\u001b[0m\u001b[0m\n\u001b[1;32m    304\u001b[0m     \u001b[0;32mif\u001b[0m \u001b[0;34m\"t\"\u001b[0m \u001b[0;32min\u001b[0m \u001b[0mmode\u001b[0m\u001b[0;34m:\u001b[0m\u001b[0;34m\u001b[0m\u001b[0;34m\u001b[0m\u001b[0m\n",
      "\u001b[0;32m~/opt/anaconda3/lib/python3.7/lzma.py\u001b[0m in \u001b[0;36m__init__\u001b[0;34m(self, filename, mode, format, check, preset, filters)\u001b[0m\n\u001b[1;32m    118\u001b[0m             \u001b[0;32mif\u001b[0m \u001b[0;34m\"b\"\u001b[0m \u001b[0;32mnot\u001b[0m \u001b[0;32min\u001b[0m \u001b[0mmode\u001b[0m\u001b[0;34m:\u001b[0m\u001b[0;34m\u001b[0m\u001b[0;34m\u001b[0m\u001b[0m\n\u001b[1;32m    119\u001b[0m                 \u001b[0mmode\u001b[0m \u001b[0;34m+=\u001b[0m \u001b[0;34m\"b\"\u001b[0m\u001b[0;34m\u001b[0m\u001b[0;34m\u001b[0m\u001b[0m\n\u001b[0;32m--> 120\u001b[0;31m             \u001b[0mself\u001b[0m\u001b[0;34m.\u001b[0m\u001b[0m_fp\u001b[0m \u001b[0;34m=\u001b[0m \u001b[0mbuiltins\u001b[0m\u001b[0;34m.\u001b[0m\u001b[0mopen\u001b[0m\u001b[0;34m(\u001b[0m\u001b[0mfilename\u001b[0m\u001b[0;34m,\u001b[0m \u001b[0mmode\u001b[0m\u001b[0;34m)\u001b[0m\u001b[0;34m\u001b[0m\u001b[0;34m\u001b[0m\u001b[0m\n\u001b[0m\u001b[1;32m    121\u001b[0m             \u001b[0mself\u001b[0m\u001b[0;34m.\u001b[0m\u001b[0m_closefp\u001b[0m \u001b[0;34m=\u001b[0m \u001b[0;32mTrue\u001b[0m\u001b[0;34m\u001b[0m\u001b[0;34m\u001b[0m\u001b[0m\n\u001b[1;32m    122\u001b[0m             \u001b[0mself\u001b[0m\u001b[0;34m.\u001b[0m\u001b[0m_mode\u001b[0m \u001b[0;34m=\u001b[0m \u001b[0mmode_code\u001b[0m\u001b[0;34m\u001b[0m\u001b[0;34m\u001b[0m\u001b[0m\n",
      "\u001b[0;31mFileNotFoundError\u001b[0m: [Errno 2] No such file or directory: 'Arkansas_1/data/data.jsonl.xz'"
     ]
    }
   ],
   "source": [
    "%%time\n",
    "\n",
    "cases = []\n",
    "with lzma.open('Arkansas_1/data/data.jsonl.xz', 'r') as jsonl_file:\n",
    "    for case in jsonl_file:\n",
    "        cases.append(json.loads(str(case, 'utf-8')))\n",
    "        \n",
    "df = pd.DataFrame(cases).sort_values('decision_date').reset_index(drop=True)"
   ]
  },
  {
   "cell_type": "code",
   "execution_count": 4,
   "metadata": {},
   "outputs": [
    {
     "ename": "NameError",
     "evalue": "name 'df' is not defined",
     "output_type": "error",
     "traceback": [
      "\u001b[0;31m---------------------------------------------------------------------------\u001b[0m",
      "\u001b[0;31mNameError\u001b[0m                                 Traceback (most recent call last)",
      "\u001b[0;32m<ipython-input-4-d58ac6ec30af>\u001b[0m in \u001b[0;36m<module>\u001b[0;34m\u001b[0m\n\u001b[0;32m----> 1\u001b[0;31m \u001b[0mprint\u001b[0m\u001b[0;34m(\u001b[0m\u001b[0mdf\u001b[0m\u001b[0;34m.\u001b[0m\u001b[0mshape\u001b[0m\u001b[0;34m)\u001b[0m\u001b[0;34m\u001b[0m\u001b[0;34m\u001b[0m\u001b[0m\n\u001b[0m\u001b[1;32m      2\u001b[0m \u001b[0mdf\u001b[0m\u001b[0;34m.\u001b[0m\u001b[0mhead\u001b[0m\u001b[0;34m(\u001b[0m\u001b[0;36m1\u001b[0m\u001b[0;34m)\u001b[0m\u001b[0;34m\u001b[0m\u001b[0;34m\u001b[0m\u001b[0m\n",
      "\u001b[0;31mNameError\u001b[0m: name 'df' is not defined"
     ]
    }
   ],
   "source": [
    "print(df.shape)\n",
    "df.head(1)"
   ]
  },
  {
   "cell_type": "code",
   "execution_count": null,
   "metadata": {},
   "outputs": [],
   "source": [
    "# taking a look at \"casebody\"\n",
    "df.iloc[0,15]['data']"
   ]
  },
  {
   "cell_type": "code",
   "execution_count": null,
   "metadata": {},
   "outputs": [],
   "source": [
    "# defining a fucnction to remove \\n and HTML tags\n",
    "def text_cleaner(text):\n",
    "    text_devided = text.splitlines()\n",
    "    text_devided_clean = \" \".join(text_devided)\n",
    "    return text_devided_clean"
   ]
  },
  {
   "cell_type": "code",
   "execution_count": null,
   "metadata": {},
   "outputs": [],
   "source": [
    "%%time\n",
    "storage = []\n",
    "\n",
    "for i in range(df.shape[0]):\n",
    "    if 1 < i < 3:\n",
    "        print(df.iloc[i,15]['data'])\n",
    "    judges = df.iloc[i,15]['data']['judges']\n",
    "    attorneys = df.iloc[i,15]['data']['attorneys']\n",
    "    headnotes = df.iloc[i,15]['data']['head_matter']\n",
    "    if df.iloc[i,15]['data']['opinions'] != []:\n",
    "        opinions = df.iloc[i,15]['data']['opinions'][0]['text']\n",
    "\n",
    "    headnotes_clean = text_cleaner(headnotes)\n",
    "    opinions_clean = text_cleaner(opinions)\n",
    "    \n",
    "    storage.append({'judges': judges,\n",
    "                    'attorneys': attorneys,\n",
    "                    'headnotes': headnotes_clean,\n",
    "                    'opinions': opinions_clean})"
   ]
  },
  {
   "cell_type": "code",
   "execution_count": null,
   "metadata": {},
   "outputs": [],
   "source": [
    "df_parsed = pd.DataFrame(storage)\n",
    "print(df_parsed.shape)\n",
    "df_parsed.head(15)"
   ]
  },
  {
   "cell_type": "code",
   "execution_count": null,
   "metadata": {},
   "outputs": [],
   "source": [
    "# headnotes\n",
    "df_parsed.iloc[0,2]"
   ]
  },
  {
   "cell_type": "code",
   "execution_count": null,
   "metadata": {},
   "outputs": [],
   "source": [
    "# opinions\n",
    "df_parsed.iloc[0,3]"
   ]
  },
  {
   "cell_type": "code",
   "execution_count": null,
   "metadata": {},
   "outputs": [],
   "source": [
    "%%time\n",
    "df_headnotes = df_parsed.merge(df, left_index=True, right_index=True)\n",
    "df_headnotes.head(10)"
   ]
  },
  {
   "cell_type": "code",
   "execution_count": null,
   "metadata": {},
   "outputs": [],
   "source": []
  },
  {
   "cell_type": "code",
   "execution_count": null,
   "metadata": {},
   "outputs": [],
   "source": []
  }
 ],
 "metadata": {
  "kernelspec": {
   "display_name": "Python 3",
   "language": "python",
   "name": "python3"
  },
  "language_info": {
   "codemirror_mode": {
    "name": "ipython",
    "version": 3
   },
   "file_extension": ".py",
   "mimetype": "text/x-python",
   "name": "python",
   "nbconvert_exporter": "python",
   "pygments_lexer": "ipython3",
   "version": "3.7.6"
  }
 },
 "nbformat": 4,
 "nbformat_minor": 4
}
