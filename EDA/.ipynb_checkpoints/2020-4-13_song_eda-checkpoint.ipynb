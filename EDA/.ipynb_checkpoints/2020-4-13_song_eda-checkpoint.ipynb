{
 "cells": [
  {
   "cell_type": "code",
   "execution_count": 2,
   "metadata": {},
   "outputs": [],
   "source": [
    "# libraries from caselaw_20200411_brendan\n",
    "import json\n",
    "import lzma\n",
    "import pandas as pd\n",
    "import numpy as np\n",
    "from bs4 import BeautifulSoup\n",
    "import re\n",
    "from tqdm import tqdm\n",
    "from IPython.core.display import display, HTML\n",
    "import re\n",
    "from nltk.tokenize import RegexpTokenizer\n",
    "\n",
    "import matplotlib.pyplot as plt\n",
    "import seaborn as sns\n",
    "sns.set()"
   ]
  },
  {
   "cell_type": "markdown",
   "metadata": {},
   "source": [
    "**Explanation of EDA**\n",
    "\n",
    "I'm borrowing heavily from Brendan's code to just parse data.\n",
    "\n",
    "I believe that measure token length can be useful, but right now we do not have a good idea of what our actual training/validation set is going to be.\n",
    "\n",
    "To figure out what we can actually train, I used the Arkansas data as a starting point, and demonstrated below how (via human-eye, not computationally) word length can be a good indicator for classifying whether an observation (i.e. case) has a useable headmatter that we can train off of. \n",
    "\n",
    "If you disagree or think another approach is necessary for figuring out what is the \"trainable\" data in this dataset, please let me know."
   ]
  },
  {
   "cell_type": "code",
   "execution_count": 3,
   "metadata": {},
   "outputs": [],
   "source": [
    "tokenizer = RegexpTokenizer('\\s+', gaps=True)"
   ]
  },
  {
   "cell_type": "code",
   "execution_count": 4,
   "metadata": {},
   "outputs": [],
   "source": [
    "# I have a data_text and data_xml folder for both types since it looks like the existing\n",
    "# notebooks from the three of you appear to take very different folder organizational \n",
    "# approaches. \n",
    "# Just fill in the correct pathway yourself to run.\n",
    "with lzma.open('./data_text/Arkansas-20200302-text/data/data.jsonl.xz', 'r') as jsonl_file:\n",
    "    cases = []\n",
    "    for case in jsonl_file:\n",
    "        c = json.loads(str(case, 'utf-8'))\n",
    "        cases.append(c)"
   ]
  },
  {
   "cell_type": "code",
   "execution_count": 6,
   "metadata": {},
   "outputs": [
    {
     "data": {
      "text/plain": [
       "59735"
      ]
     },
     "metadata": {},
     "output_type": "display_data"
    }
   ],
   "source": [
    "display(len(cases))\n",
    "\n",
    "num_headnotes = []\n",
    "num_opinions = []\n",
    "\n",
    "for c in cases:\n",
    "    headnotes = c['casebody']['data']['head_matter']\n",
    "    num_headnotes.append(len(headnotes))\n",
    "    opinions = c['casebody']['data']['opinions']\n",
    "    num_opinions.append(len(opinions))"
   ]
  },
  {
   "cell_type": "code",
   "execution_count": 8,
   "metadata": {},
   "outputs": [
    {
     "data": {
      "text/plain": [
       "'Earl Ray GARDNER v. STATE of Arkansas\\nCR 77-196\\n569 S.W. 2d 74\\nOpinion delivered June 26, 1978\\n(In Banc)\\n[Rehearing denied September 5, 1978]\\nLesher & Franks, for appellant.\\nBill Clinton, Atty. Gen., by: Jesse L. Kearney, Asst. Atty. Gen., for appellee.'"
      ]
     },
     "execution_count": 8,
     "metadata": {},
     "output_type": "execute_result"
    }
   ],
   "source": [
    "# Dispaly one text of headmatter\n",
    "c['casebody']['data']['head_matter']"
   ]
  },
  {
   "cell_type": "code",
   "execution_count": 9,
   "metadata": {},
   "outputs": [
    {
     "data": {
      "text/plain": [
       "array([     0,     16,     17, ..., 136211, 251012, 251938])"
      ]
     },
     "execution_count": 9,
     "metadata": {},
     "output_type": "execute_result"
    }
   ],
   "source": [
    "#Confirm that all cases have headmatter, and how many have a zero-length headmatter\n",
    "num_headnotes = np.array(num_headnotes)\n",
    "num_headnotes_nonan = np.nan_to_num(num_headnotes, nan=0)\n",
    "np.unique(np.array(num_headnotes))"
   ]
  },
  {
   "cell_type": "code",
   "execution_count": 11,
   "metadata": {},
   "outputs": [
    {
     "data": {
      "text/plain": [
       "7"
      ]
     },
     "metadata": {},
     "output_type": "display_data"
    },
    {
     "data": {
      "text/plain": [
       "317"
      ]
     },
     "metadata": {},
     "output_type": "display_data"
    }
   ],
   "source": [
    "#Confirm that there are no NaN, and that there are few zero length headmatterdisplay(len(num_headnotes[num_headnotes == 0]))\n",
    "display(len(num_headnotes_nonan[num_headnotes_nonan == 0]))\n",
    "\n",
    "display(len(num_headnotes[num_headnotes < 100]))"
   ]
  },
  {
   "cell_type": "code",
   "execution_count": 12,
   "metadata": {},
   "outputs": [],
   "source": [
    "#Save indices, and sort by length of headmatter for visualization\n",
    "hdnotes_df = pd.DataFrame(num_headnotes, range(len(num_headnotes)))\n",
    "hdnotes_sort = hdnotes_df.sort_values(by=[0])"
   ]
  },
  {
   "cell_type": "code",
   "execution_count": 14,
   "metadata": {},
   "outputs": [
    {
     "data": {
      "text/plain": [
       "[<matplotlib.lines.Line2D at 0x2170b027548>]"
      ]
     },
     "execution_count": 14,
     "metadata": {},
     "output_type": "execute_result"
    },
    {
     "data": {
      "image/png": "[encoded data removed]",
      "text/plain": [
       "<Figure size 432x288 with 1 Axes>"
      ]
     },
     "metadata": {},
     "output_type": "display_data"
    }
   ],
   "source": [
    "#plot log-lengths. We see \"elbows\" at x=7, x~400, x~42000, and x~60000\n",
    "plt.plot(range(len(num_headnotes)),np.log(hdnotes_sort[0]))"
   ]
  },
  {
   "cell_type": "code",
   "execution_count": 28,
   "metadata": {},
   "outputs": [
    {
     "data": {
      "text/plain": [
       "[<matplotlib.lines.Line2D at 0x2170c5de9c8>]"
      ]
     },
     "execution_count": 28,
     "metadata": {},
     "output_type": "execute_result"
    },
    {
     "data": {
      "image/png": "[encoded data removed]",
      "text/plain": [
       "<Figure size 432x288 with 1 Axes>"
      ]
     },
     "metadata": {},
     "output_type": "display_data"
    }
   ],
   "source": [
    "#Focus at the elbow between (sort) indices 30000 and 45000 \n",
    "fig, ax = plt.subplots()\n",
    "rnge_start = 30000\n",
    "rnge_end = 45000\n",
    "ax.plot(range(rnge_start, rnge_end),hdnotes_sort[0].values[rnge_start:rnge_end])"
   ]
  },
  {
   "cell_type": "code",
   "execution_count": 68,
   "metadata": {
    "scrolled": true
   },
   "outputs": [
    {
     "data": {
      "text/html": [
       "<div>\n",
       "<style scoped>\n",
       "    .dataframe tbody tr th:only-of-type {\n",
       "        vertical-align: middle;\n",
       "    }\n",
       "\n",
       "    .dataframe tbody tr th {\n",
       "        vertical-align: top;\n",
       "    }\n",
       "\n",
       "    .dataframe thead th {\n",
       "        text-align: right;\n",
       "    }\n",
       "</style>\n",
       "<table border=\"1\" class=\"dataframe\">\n",
       "  <thead>\n",
       "    <tr style=\"text-align: right;\">\n",
       "      <th></th>\n",
       "      <th>0</th>\n",
       "    </tr>\n",
       "  </thead>\n",
       "  <tbody>\n",
       "    <tr>\n",
       "      <th>27179</th>\n",
       "      <td>570</td>\n",
       "    </tr>\n",
       "    <tr>\n",
       "      <th>18011</th>\n",
       "      <td>570</td>\n",
       "    </tr>\n",
       "    <tr>\n",
       "      <th>3085</th>\n",
       "      <td>570</td>\n",
       "    </tr>\n",
       "    <tr>\n",
       "      <th>48056</th>\n",
       "      <td>571</td>\n",
       "    </tr>\n",
       "    <tr>\n",
       "      <th>58932</th>\n",
       "      <td>571</td>\n",
       "    </tr>\n",
       "    <tr>\n",
       "      <th>50351</th>\n",
       "      <td>571</td>\n",
       "    </tr>\n",
       "    <tr>\n",
       "      <th>51218</th>\n",
       "      <td>572</td>\n",
       "    </tr>\n",
       "    <tr>\n",
       "      <th>51814</th>\n",
       "      <td>572</td>\n",
       "    </tr>\n",
       "    <tr>\n",
       "      <th>49969</th>\n",
       "      <td>572</td>\n",
       "    </tr>\n",
       "    <tr>\n",
       "      <th>41636</th>\n",
       "      <td>572</td>\n",
       "    </tr>\n",
       "  </tbody>\n",
       "</table>\n",
       "</div>"
      ],
      "text/plain": [
       "         0\n",
       "27179  570\n",
       "18011  570\n",
       "3085   570\n",
       "48056  571\n",
       "58932  571\n",
       "50351  571\n",
       "51218  572\n",
       "51814  572\n",
       "49969  572\n",
       "41636  572"
      ]
     },
     "execution_count": 68,
     "metadata": {},
     "output_type": "execute_result"
    }
   ],
   "source": [
    "# Trying to find a general \"boundary\" with human-eye for when headmatters appears to \n",
    "# become real summaries of opinion text, RATHER than just list of officials\n",
    "short_hds_lst = hdnotes_sort.loc[((hdnotes_sort[0]<573) & (hdnotes_sort[0]>1))]\n",
    "short_hds_lst.tail(10)"
   ]
  },
  {
   "cell_type": "code",
   "execution_count": 67,
   "metadata": {},
   "outputs": [
    {
     "data": {
      "text/plain": [
       "'2015 Ark. 285\\nGary SANFORD; Linda Yeager; Wayne Lilley; Lilley Paint Co., Inc., an Arkansas Corporation; and Airmotive, Inc., an Arkansas Corporation, Appellants, v. Larry WALTHER, Director, Arkansas Department of Finance and Administration, Appellee.\\nNo. CV-14-1056\\nSupreme Court of Arkansas.\\nOpinion Delivered June 25, 2015\\nDeininger & Wingfield, P.A., Little Rock, by: Neil Deininger and Reba M. Wingfield; Hatfield & Sayre, Little Rock, by: Eugene G. Sayre; and Stephen L. Gurry, for appellants.\\nJoel DiPippa, Attorney Supervisor, Revenue Legal Counsel, for appellees.'"
      ]
     },
     "metadata": {},
     "output_type": "display_data"
    },
    {
     "data": {
      "text/plain": [
       "'Parker v. Wilson.\\nOpinion delivered June 12, 1911.\\nStay bond — guaedian may Givg. — (Kirby’s Digest, § 3253, as amended by Acts of 1909, p. 590, providing that “no stay shall be allowed upon a judgment or decree against any* * agent for * * * failing to pay over money collected by him in such capacity,” does not prohibit a stay upon a judgment in favor of.a ward against his guardian for money collected by the guardian, a\"s such, and not paid to the ward.\\n/. W. House and Ratcliffe, Fletcher & Ratcliffe, for appellants.\\nThomas & Lee and Johnson & Burr, for appellee.'"
      ]
     },
     "metadata": {},
     "output_type": "display_data"
    }
   ],
   "source": [
    "# Drawing from two of the idices noted above, we see that one case clearly is a real \n",
    "# headmatter summary, while the other is just a list of officials involved.\n",
    "# This suggests that somewhere between 550 and 600 words long, our headmatter can possibly\n",
    "# be read by a human-being as a real summary headmatter\n",
    "display(cases[49969]['casebody']['data']['head_matter'])\n",
    "display(cases[27179]['casebody']['data']['head_matter'])"
   ]
  },
  {
   "cell_type": "code",
   "execution_count": 69,
   "metadata": {},
   "outputs": [
    {
     "data": {
      "text/plain": [
       "16627"
      ]
     },
     "execution_count": 69,
     "metadata": {},
     "output_type": "execute_result"
    }
   ],
   "source": [
    "# This is the rough estimate about the number of training/validation data points we can use,\n",
    "# assuming that word length is a good indicator of a \"real\" headmatter\n",
    "len(hdnotes_sort) - len(short_hds_lst)"
   ]
  },
  {
   "cell_type": "code",
   "execution_count": null,
   "metadata": {},
   "outputs": [],
   "source": [
    "# Possible, though tedious alternative to this very rough attempt: \n",
    "# We tag about 1000 to 2000 indices as \"real\" vs. \"fake\" headmatter, then just train an\n",
    "# algorithm (e.g. CNN) to detect and classify for us. "
   ]
  }
 ],
 "metadata": {
  "kernelspec": {
   "display_name": "Python 3",
   "language": "python",
   "name": "python3"
  },
  "language_info": {
   "codemirror_mode": {
    "name": "ipython",
    "version": 3
   },
   "file_extension": ".py",
   "mimetype": "text/x-python",
   "name": "python",
   "nbconvert_exporter": "python",
   "pygments_lexer": "ipython3",
   "version": "3.7.6"
  }
 },
 "nbformat": 4,
 "nbformat_minor": 4
}
