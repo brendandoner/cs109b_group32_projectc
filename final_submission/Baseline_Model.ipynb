{
 "cells": [
  {
   "cell_type": "code",
   "execution_count": 1,
   "metadata": {},
   "outputs": [
    {
     "name": "stderr",
     "output_type": "stream",
     "text": [
      "[nltk_data] Downloading package stopwords to\n",
      "[nltk_data]     /Users/qilongxin/nltk_data...\n",
      "[nltk_data]   Package stopwords is already up-to-date!\n"
     ]
    }
   ],
   "source": [
    "# libraries\n",
    "import json\n",
    "import lzma\n",
    "import pandas as pd\n",
    "import numpy as np\n",
    "from bs4 import BeautifulSoup\n",
    "import re\n",
    "from tqdm import tqdm\n",
    "from IPython.core.display import display, HTML\n",
    "import re\n",
    "from nltk.tokenize import RegexpTokenizer\n",
    "from nltk.corpus import stopwords  \n",
    "import nltk\n",
    "nltk.download('stopwords')\n",
    "import matplotlib.pyplot as plt\n",
    "import seaborn as sns\n",
    "import random\n",
    "sns.set()\n",
    "\n",
    "# from IPython.core.interactiveshell import InteractiveShell\n",
    "# InteractiveShell.ast_node_interactivity = \"all\"\n",
    "\n",
    "# pd.options.display.max_columns = 999\n",
    "# pd.options.display.max_rows = 999"
   ]
  },
  {
   "cell_type": "code",
   "execution_count": 3,
   "metadata": {},
   "outputs": [
    {
     "data": {
      "text/html": [
       "<div>\n",
       "<style scoped>\n",
       "    .dataframe tbody tr th:only-of-type {\n",
       "        vertical-align: middle;\n",
       "    }\n",
       "\n",
       "    .dataframe tbody tr th {\n",
       "        vertical-align: top;\n",
       "    }\n",
       "\n",
       "    .dataframe thead th {\n",
       "        text-align: right;\n",
       "    }\n",
       "</style>\n",
       "<table border=\"1\" class=\"dataframe\">\n",
       "  <thead>\n",
       "    <tr style=\"text-align: right;\">\n",
       "      <th></th>\n",
       "      <th>Unnamed: 0</th>\n",
       "      <th>headnote</th>\n",
       "      <th>opinion_text</th>\n",
       "    </tr>\n",
       "  </thead>\n",
       "  <tbody>\n",
       "    <tr>\n",
       "      <th>0</th>\n",
       "      <td>0</td>\n",
       "      <td>SUPREME COURT,\\nRALEIGH, (N. C.)\\nJULY, 1810.\\...</td>\n",
       "      <td>A majority of the court, therefore, being of t...</td>\n",
       "    </tr>\n",
       "    <tr>\n",
       "      <th>1</th>\n",
       "      <td>1</td>\n",
       "      <td>Case No. 4,170.\\nDUNLOP et al. v. WEST.\\n[Brun...</td>\n",
       "      <td>PER CURIAM.\\nIf the sheriff or marshal seizes ...</td>\n",
       "    </tr>\n",
       "    <tr>\n",
       "      <th>2</th>\n",
       "      <td>2</td>\n",
       "      <td>Case No. 4,954.\\nThe FORTUNA.\\n[1 Brock. 299.]...</td>\n",
       "      <td>MARSHALL. Circuit Justice.\\nThe Fortuna, a ves...</td>\n",
       "    </tr>\n",
       "    <tr>\n",
       "      <th>3</th>\n",
       "      <td>3</td>\n",
       "      <td>D. K. FUTCH v. ATLANTIC COAST LINE RAILROAD CO...</td>\n",
       "      <td>Walker, J.\\nThe grievance alleged by the plain...</td>\n",
       "    </tr>\n",
       "    <tr>\n",
       "      <th>4</th>\n",
       "      <td>4</td>\n",
       "      <td>MRS. SUSANNA WILLIAMS v. C. G. BAILEY, B. R. B...</td>\n",
       "      <td>Hoke, J.\\nOn the hearing it appeared that C. G...</td>\n",
       "    </tr>\n",
       "  </tbody>\n",
       "</table>\n",
       "</div>"
      ],
      "text/plain": [
       "   Unnamed: 0                                           headnote  \\\n",
       "0           0  SUPREME COURT,\\nRALEIGH, (N. C.)\\nJULY, 1810.\\...   \n",
       "1           1  Case No. 4,170.\\nDUNLOP et al. v. WEST.\\n[Brun...   \n",
       "2           2  Case No. 4,954.\\nThe FORTUNA.\\n[1 Brock. 299.]...   \n",
       "3           3  D. K. FUTCH v. ATLANTIC COAST LINE RAILROAD CO...   \n",
       "4           4  MRS. SUSANNA WILLIAMS v. C. G. BAILEY, B. R. B...   \n",
       "\n",
       "                                        opinion_text  \n",
       "0  A majority of the court, therefore, being of t...  \n",
       "1  PER CURIAM.\\nIf the sheriff or marshal seizes ...  \n",
       "2  MARSHALL. Circuit Justice.\\nThe Fortuna, a ves...  \n",
       "3  Walker, J.\\nThe grievance alleged by the plain...  \n",
       "4  Hoke, J.\\nOn the hearing it appeared that C. G...  "
      ]
     },
     "execution_count": 3,
     "metadata": {},
     "output_type": "execute_result"
    }
   ],
   "source": [
    "df_nc = pd.read_csv('df_head_and_body_only.csv') #case data without any preprocessing\n",
    "df_nc.head()"
   ]
  },
  {
   "cell_type": "code",
   "execution_count": 5,
   "metadata": {},
   "outputs": [],
   "source": [
    "# number of baseline cases to inspect \n",
    "baseline_size = 100\n",
    "\n",
    "# randomly select 100 cases\n",
    "baseline_data = df_nc.sample(n=baseline_size,replace=False, random_state=1)\n",
    "\n",
    "#get text and summary \n",
    "baseline_text,baseline_summary = baseline_data.opinion_text.tolist(),baseline_data.headnote.tolist()\n"
   ]
  },
  {
   "cell_type": "code",
   "execution_count": 6,
   "metadata": {},
   "outputs": [],
   "source": [
    "from summarizer import Summarizer\n",
    "#https://github.com/dmmiller612/bert-extractive-summarizer\n",
    "import rouge \n",
    "\n",
    "model = Summarizer()\n",
    "rouge = rouge.Rouge()\n",
    "\n",
    "# a function to get all scores from true summaries and generated summaries \n",
    "def getRougeScore(y_true,y_pred,metric='rouge-2',score='f'): \n",
    "    scores = np.zeros(len(y_true))\n",
    "    for i in range(len(y_pred)):\n",
    "        if y_pred[i] == '': # account for the possiblity that BERT fails and returns empty strings\n",
    "            scores[i] = 0\n",
    "            next\n",
    "        else: \n",
    "            sc = rouge.get_scores(y_true[i], y_pred[i])\n",
    "            scores[i] = sc[0][metric][score]\n",
    "    print(np.mean(scores))\n",
    "    return scores \n",
    "\n",
    "# a class to initialize, apply, and report baseline pre-trained BERT model performance\n",
    "class Baseline_BERT_model(): \n",
    "    def __init__ (self,min_length=60): \n",
    "        super(Baseline_BERT_model,self).__init__()\n",
    "        self.min_length = min_length\n",
    "        \n",
    "    def evaluate(self,texts,summaries):  \n",
    "        results = []\n",
    "        for i,text in enumerate(texts): \n",
    "            results.append(model(text,min_length=self.min_length))\n",
    "        self.results = results\n",
    "        self.summaries = summaries \n",
    "        return results \n",
    "    \n",
    "    def reportEvaluation(self,metric='rouge-2',score='f'): \n",
    "        sc = getRougeScore(self.summaries,self.results,metric,score) \n",
    "        return sc\n",
    "    def inspectOneSummary(self):\n",
    "        # randomly inspect one summary \n",
    "        print(self.results[random.randint(0,len(self.results)-1)])\n",
    "        "
   ]
  },
  {
   "cell_type": "code",
   "execution_count": 40,
   "metadata": {},
   "outputs": [
    {
     "name": "stdout",
     "output_type": "stream",
     "text": [
      "The average Rouge 1 F-scores on 100 random cases is\n",
      "0.2147327799704312\n",
      "The average Rouge 2 F-scores on 100 random cases is\n",
      "0.07484249324761535\n"
     ]
    }
   ],
   "source": [
    "bert = Baseline_BERT_model()\n",
    "\n",
    "_ = bert.evaluate(baseline_text,baseline_summary)\n",
    "print('The average Rouge 1 F-scores on 100 random cases is')\n",
    "_ = bert.reportEvaluation(metric='rouge-1')\n",
    "print('The average Rouge 2 F-scores on 100 random cases is')\n",
    "_ = bert.reportEvaluation()"
   ]
  },
  {
   "cell_type": "code",
   "execution_count": 9,
   "metadata": {},
   "outputs": [
    {
     "name": "stdout",
     "output_type": "stream",
     "text": [
      "It appears therefrom that the plaintiff admits the purchase of the sewing machines at the price stated, but seeks to recover damages because, as it alleges, the defendant agreed to furnish the plaintiff an experienced and successful agent to sell the machines, and that said agent embezzled the horse and buggy furnished him and ran away with certain collections made by him. When furnished, the agent became the agent of the plaintiff, and any loss from his misconduct falls upon the plaintiff. He could not be the agent of both the plaintiff and defendant in selling machines for the plaintiff. The plaintiff company was engaged in the business of buying and retailing them. It is true' the reply denies that the plaintiff owes the sum set up in the counterclaim, but that is a conclusion of law, for the purchase and price of the sewing machines are admitted, and the liability therefor is denied solely on the ground that the agent recommended by the defendant and employed by plaintiff proved to be dishonest.\n"
     ]
    }
   ],
   "source": [
    "bert.inspectOneSummary()"
   ]
  },
  {
   "cell_type": "code",
   "execution_count": null,
   "metadata": {},
   "outputs": [],
   "source": []
  },
  {
   "cell_type": "code",
   "execution_count": null,
   "metadata": {},
   "outputs": [],
   "source": []
  }
 ],
 "metadata": {
  "kernelspec": {
   "display_name": "Python 3",
   "language": "python",
   "name": "python3"
  },
  "language_info": {
   "codemirror_mode": {
    "name": "ipython",
    "version": 3
   },
   "file_extension": ".py",
   "mimetype": "text/x-python",
   "name": "python",
   "nbconvert_exporter": "python",
   "pygments_lexer": "ipython3",
   "version": "3.7.3"
  }
 },
 "nbformat": 4,
 "nbformat_minor": 4
}
