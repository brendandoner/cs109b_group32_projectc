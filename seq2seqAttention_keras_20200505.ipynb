{
 "cells": [
  {
   "cell_type": "markdown",
   "metadata": {},
   "source": [
    "# <img style=\"float: left; padding-right: 10px; width: 45px\" src=\"https://raw.githubusercontent.com/Harvard-IACS/2018-CS109A/master/content/styles/iacs.png\"> CS109B Final Project - Method - Seq2Seq Attention\n",
    "\n",
    "**Harvard University**<br/>\n",
    "**Spring 2020**<br/>\n",
    "**Group 32**: \n",
    "\n",
    "<hr style=\"height:2pt\">"
   ]
  },
  {
   "cell_type": "code",
   "execution_count": 3,
   "metadata": {},
   "outputs": [
    {
     "data": {
      "text/html": [
       "<style>\n",
       "blockquote { background: #AEDE94; }\n",
       "h1 { \n",
       "    padding-top: 25px;\n",
       "    padding-bottom: 25px;\n",
       "    text-align: left; \n",
       "    padding-left: 10px;\n",
       "    background-color: #DDDDDD; \n",
       "    color: black;\n",
       "}\n",
       "h2 { \n",
       "    padding-top: 10px;\n",
       "    padding-bottom: 10px;\n",
       "    text-align: left; \n",
       "    padding-left: 5px;\n",
       "    background-color: #EEEEEE; \n",
       "    color: black;\n",
       "}\n",
       "\n",
       "div.exercise {\n",
       "\tbackground-color: #ffcccc;\n",
       "\tborder-color: #E9967A; \t\n",
       "\tborder-left: 5px solid #800080; \n",
       "\tpadding: 0.5em;\n",
       "}\n",
       "\n",
       "span.sub-q {\n",
       "\tfont-weight: bold;\n",
       "}\n",
       "div.theme {\n",
       "\tbackground-color: #DDDDDD;\n",
       "\tborder-color: #E9967A; \t\n",
       "\tborder-left: 5px solid #800080; \n",
       "\tpadding: 0.5em;\n",
       "\tfont-size: 18pt;\n",
       "}\n",
       "div.gc { \n",
       "\tbackground-color: #AEDE94;\n",
       "\tborder-color: #E9967A; \t \n",
       "\tborder-left: 5px solid #800080; \n",
       "\tpadding: 0.5em;\n",
       "\tfont-size: 12pt;\n",
       "}\n",
       "p.q1 { \n",
       "    padding-top: 5px;\n",
       "    padding-bottom: 5px;\n",
       "    text-align: left; \n",
       "    padding-left: 5px;\n",
       "    background-color: #EEEEEE; \n",
       "    color: black;\n",
       "}\n",
       "header {\n",
       "   padding-top: 35px;\n",
       "    padding-bottom: 35px;\n",
       "    text-align: left; \n",
       "    padding-left: 10px;\n",
       "    background-color: #DDDDDD; \n",
       "    color: black;\n",
       "}\n",
       "</style>\n",
       "\n"
      ],
      "text/plain": [
       "<IPython.core.display.HTML object>"
      ]
     },
     "execution_count": 3,
     "metadata": {},
     "output_type": "execute_result"
    }
   ],
   "source": [
    "#RUN THIS CELL \n",
    "import requests\n",
    "from IPython.core.display import HTML\n",
    "styles = requests.get(\"https://raw.githubusercontent.com/Harvard-IACS/2018-CS109A/master/content/styles/cs109.css\").text\n",
    "HTML(styles)"
   ]
  },
  {
   "cell_type": "markdown",
   "metadata": {},
   "source": [
    "\n",
    "## <a id='0'>Content</a>\n",
    "\n",
    "- <a href='#1'>1. Overview</a> \n",
    "- <a href='#2'>2. Data</a>\n",
    "- <a href='#3'>3. Model</a>\n",
    "- <a href='#4'>4. Conclusion</a>  \n",
    "\n"
   ]
  },
  {
   "cell_type": "markdown",
   "metadata": {},
   "source": [
    "## <a id='1'>1. Overview</a>\n",
    "\n",
    "This method is a seq2seq with attention model that uses code from the following blog post as a basis.\n",
    "\n",
    "https://www.analyticsvidhya.com/blog/2019/06/comprehensive-guide-text-summarization-using-deep-learning-python/\n",
    "\n",
    "The model is designed to return an abstration of the case opinion that is trained on the headnotes in the dataset. "
   ]
  },
  {
   "cell_type": "markdown",
   "metadata": {},
   "source": [
    "## <a id=2>2. Data </a>\n",
    "\n",
    "Long sequences caused this model to crash during training so the training dataset was cut down to around 5,000 cases that are in the bottom 30% of sequence length.\n",
    "\n",
    "The text pre-processing is based on the blog listed above and it removes all punctuation and stop words from the case opinions and headnotes."
   ]
  },
  {
   "cell_type": "markdown",
   "metadata": {},
   "source": [
    "## <a id=3>3. Model <a/>\n",
    "    \n",
    "The model architecture utilizes both bidirectional LSTM layers and LSTM layers. Dropout layers are also utilized to regularize the model. This is a modification from the blog post that did not use bidirectional LSTM layers and that did not use dropout layers.\n",
    "\n",
    "The optimizer was also changed from rmsprop to adam and the batchsize was experimented with and ultimetly selected as a balance between crashing the kernel and model performance."
   ]
  },
  {
   "cell_type": "markdown",
   "metadata": {},
   "source": [
    "## <a id=4>4. Conclusion<a/>\n",
    "\n",
    "This model was not selected due to low rouge scores as well as poor performance in producing headnotes that appear relevant to a human reader. \n",
    "\n",
    "Adding two bidirectional layers in the encoder improved the rouge scores over the blog model and adding dropout layers slowed down the training and generally lead to improved validation accuracy over more epochs."
   ]
  },
  {
   "cell_type": "code",
   "execution_count": 4,
   "metadata": {},
   "outputs": [
    {
     "name": "stderr",
     "output_type": "stream",
     "text": [
      "Using TensorFlow backend.\n",
      "[nltk_data] Downloading package stopwords to\n",
      "[nltk_data]     /home/91354489/nltk_data...\n",
      "[nltk_data]   Package stopwords is already up-to-date!\n"
     ]
    }
   ],
   "source": [
    "import json\n",
    "import lzma\n",
    "import pandas as pd\n",
    "import numpy as np\n",
    "from bs4 import BeautifulSoup\n",
    "import re\n",
    "from tqdm import tqdm\n",
    "from IPython.core.display import display, HTML\n",
    "import re\n",
    "from nltk.tokenize import RegexpTokenizer\n",
    "\n",
    "from sklearn.model_selection import train_test_split\n",
    "\n",
    "import matplotlib.pyplot as plt\n",
    "import seaborn as sns\n",
    "sns.set()\n",
    "\n",
    "from keras.preprocessing.text import Tokenizer \n",
    "from keras.preprocessing.sequence import pad_sequences\n",
    "from nltk.corpus import stopwords\n",
    "from tensorflow.keras.layers import Input, LSTM, Embedding, Dense, Concatenate, TimeDistributed, Bidirectional, Dropout\n",
    "from tensorflow.keras.models import Model\n",
    "from tensorflow.keras.callbacks import EarlyStopping\n",
    "import warnings\n",
    "warnings.filterwarnings(\"ignore\")\n",
    "\n",
    "from attention import AttentionLayer\n",
    "# tokenizer = RegexpTokenizer('\\s+', gaps=True)\n",
    "import nltk\n",
    "nltk.download('stopwords')\n",
    "\n",
    "from rouge import Rouge"
   ]
  },
  {
   "cell_type": "code",
   "execution_count": 5,
   "metadata": {},
   "outputs": [],
   "source": [
    "contraction_mapping = {\"ain't\": \"is not\", \"aren't\": \"are not\",\"can't\": \"cannot\", \"'cause\": \"because\", \"could've\": \"could have\", \"couldn't\": \"could not\",\n",
    "\n",
    "                           \"didn't\": \"did not\", \"doesn't\": \"does not\", \"don't\": \"do not\", \"hadn't\": \"had not\", \"hasn't\": \"has not\", \"haven't\": \"have not\",\n",
    "\n",
    "                           \"he'd\": \"he would\",\"he'll\": \"he will\", \"he's\": \"he is\", \"how'd\": \"how did\", \"how'd'y\": \"how do you\", \"how'll\": \"how will\", \"how's\": \"how is\",\n",
    "\n",
    "                           \"I'd\": \"I would\", \"I'd've\": \"I would have\", \"I'll\": \"I will\", \"I'll've\": \"I will have\",\"I'm\": \"I am\", \"I've\": \"I have\", \"i'd\": \"i would\",\n",
    "\n",
    "                           \"i'd've\": \"i would have\", \"i'll\": \"i will\",  \"i'll've\": \"i will have\",\"i'm\": \"i am\", \"i've\": \"i have\", \"isn't\": \"is not\", \"it'd\": \"it would\",\n",
    "\n",
    "                           \"it'd've\": \"it would have\", \"it'll\": \"it will\", \"it'll've\": \"it will have\",\"it's\": \"it is\", \"let's\": \"let us\", \"ma'am\": \"madam\",\n",
    "\n",
    "                           \"mayn't\": \"may not\", \"might've\": \"might have\",\"mightn't\": \"might not\",\"mightn't've\": \"might not have\", \"must've\": \"must have\",\n",
    "\n",
    "                           \"mustn't\": \"must not\", \"mustn't've\": \"must not have\", \"needn't\": \"need not\", \"needn't've\": \"need not have\",\"o'clock\": \"of the clock\",\n",
    "\n",
    "                           \"oughtn't\": \"ought not\", \"oughtn't've\": \"ought not have\", \"shan't\": \"shall not\", \"sha'n't\": \"shall not\", \"shan't've\": \"shall not have\",\n",
    "\n",
    "                           \"she'd\": \"she would\", \"she'd've\": \"she would have\", \"she'll\": \"she will\", \"she'll've\": \"she will have\", \"she's\": \"she is\",\n",
    "\n",
    "                           \"should've\": \"should have\", \"shouldn't\": \"should not\", \"shouldn't've\": \"should not have\", \"so've\": \"so have\",\"so's\": \"so as\",\n",
    "\n",
    "                           \"this's\": \"this is\",\"that'd\": \"that would\", \"that'd've\": \"that would have\", \"that's\": \"that is\", \"there'd\": \"there would\",\n",
    "\n",
    "                           \"there'd've\": \"there would have\", \"there's\": \"there is\", \"here's\": \"here is\",\"they'd\": \"they would\", \"they'd've\": \"they would have\",\n",
    "\n",
    "                           \"they'll\": \"they will\", \"they'll've\": \"they will have\", \"they're\": \"they are\", \"they've\": \"they have\", \"to've\": \"to have\",\n",
    "\n",
    "                           \"wasn't\": \"was not\", \"we'd\": \"we would\", \"we'd've\": \"we would have\", \"we'll\": \"we will\", \"we'll've\": \"we will have\", \"we're\": \"we are\",\n",
    "\n",
    "                           \"we've\": \"we have\", \"weren't\": \"were not\", \"what'll\": \"what will\", \"what'll've\": \"what will have\", \"what're\": \"what are\",\n",
    "\n",
    "                           \"what's\": \"what is\", \"what've\": \"what have\", \"when's\": \"when is\", \"when've\": \"when have\", \"where'd\": \"where did\", \"where's\": \"where is\",\n",
    "\n",
    "                           \"where've\": \"where have\", \"who'll\": \"who will\", \"who'll've\": \"who will have\", \"who's\": \"who is\", \"who've\": \"who have\",\n",
    "\n",
    "                           \"why's\": \"why is\", \"why've\": \"why have\", \"will've\": \"will have\", \"won't\": \"will not\", \"won't've\": \"will not have\",\n",
    "\n",
    "                           \"would've\": \"would have\", \"wouldn't\": \"would not\", \"wouldn't've\": \"would not have\", \"y'all\": \"you all\",\n",
    "\n",
    "                           \"y'all'd\": \"you all would\",\"y'all'd've\": \"you all would have\",\"y'all're\": \"you all are\",\"y'all've\": \"you all have\",\n",
    "\n",
    "                           \"you'd\": \"you would\", \"you'd've\": \"you would have\", \"you'll\": \"you will\", \"you'll've\": \"you will have\",\n",
    "\n",
    "                           \"you're\": \"you are\", \"you've\": \"you have\"}"
   ]
  },
  {
   "cell_type": "code",
   "execution_count": 6,
   "metadata": {},
   "outputs": [],
   "source": [
    "# function to process and format text\n",
    "\n",
    "stop_words = set(stopwords.words('english')) \n",
    "def text_cleaner(text):\n",
    "    newString = text.lower()\n",
    "    newString = BeautifulSoup(newString, \"lxml\").text\n",
    "    newString = re.sub(r'\\([^)]*\\)', '', newString)\n",
    "    newString = re.sub('\"','', newString)\n",
    "    newString = ' '.join([contraction_mapping[t] if t in contraction_mapping else t for t in newString.split(\" \")])    \n",
    "    newString = re.sub(r\"'s\\b\",\"\",newString)\n",
    "    newString = re.sub(\"[^a-zA-Z]\", \" \", newString) \n",
    "    tokens = [w for w in newString.split() if not w in stop_words]\n",
    "    long_words=[]\n",
    "    for i in tokens:\n",
    "        if len(i)>=3:                  #removing short word\n",
    "            long_words.append(i)   \n",
    "    return (\" \".join(long_words)).strip()"
   ]
  },
  {
   "cell_type": "code",
   "execution_count": 7,
   "metadata": {},
   "outputs": [],
   "source": [
    "# function to read data and apply text processing\n",
    "\n",
    "def get_cases(state, subset=True, num_cases=100):\n",
    "    cases = []\n",
    "    with lzma.open(state + '/data/data.jsonl.xz', 'r') as jsonl_file:\n",
    "        for i, case in enumerate(jsonl_file):\n",
    "            c = json.loads(str(case, 'utf-8'))\n",
    "\n",
    "            date = c['decision_date']\n",
    "            \n",
    "            headnotes = c['casebody']['data']['head_matter']\n",
    "            if headnotes == []:\n",
    "                continue\n",
    "            headnotes = text_cleaner(headnotes)\n",
    "            num_head = len(headnotes)\n",
    "            \n",
    "            name = text_cleaner(c['name'])\n",
    "            docket_number = text_cleaner(c['docket_number'])\n",
    "\n",
    "            opinions = c['casebody']['data']['opinions']\n",
    "            if opinions == []:\n",
    "                continue\n",
    "\n",
    "            opinions = text_cleaner(opinions[0]['text'])\n",
    "            body = name + docket_number + opinions\n",
    "            num_body = len(body)\n",
    "                \n",
    "            cases.append({'date':date, 'num_head':num_head, 'head':headnotes, 'num_body':num_body, 'body':body})\n",
    "            if subset == True:\n",
    "                if i > num_cases:\n",
    "                    break\n",
    "        return pd.DataFrame(cases)"
   ]
  },
  {
   "cell_type": "code",
   "execution_count": 5,
   "metadata": {},
   "outputs": [
    {
     "data": {
      "text/plain": [
       "(97586, 5)"
      ]
     },
     "execution_count": 5,
     "metadata": {},
     "output_type": "execute_result"
    }
   ],
   "source": [
    "# reading and cleaning case text\n",
    "\n",
    "df = get_cases('North Carolina', subset=False, num_cases=10)\n",
    "df['head'] = df['head'].apply(lambda x: '_START_ '+ x + ' _END_')\n",
    "df.shape"
   ]
  },
  {
   "cell_type": "code",
   "execution_count": 6,
   "metadata": {
    "scrolled": true
   },
   "outputs": [
    {
     "data": {
      "image/png": "[encoded data removed]",
      "text/plain": [
       "<Figure size 720x216 with 2 Axes>"
      ]
     },
     "metadata": {
      "needs_background": "light"
     },
     "output_type": "display_data"
    }
   ],
   "source": [
    "# Finding a threshold to subset the data due to challenges training on cases that\n",
    "# have a long sequence length.\n",
    "\n",
    "q = 30\n",
    "q_head = int(np.percentile(df.num_head,q))\n",
    "q_body = int(np.percentile(df.num_body,q))\n",
    "\n",
    "f, ax = plt.subplots(1,2,figsize=[10,3])\n",
    "ax[0].hist(df.num_head, bins=50)\n",
    "ax[0].axvline(np.max(df.num_head), label='max len: ' + str(np.max(df.num_head)), color='k', ls='--')\n",
    "ax[0].axvline(q_head, label=str(q) + '% len: ' + str(q_head), color='r', ls='--')\n",
    "ax[0].set_title('Headnote')\n",
    "ax[0].legend()\n",
    "ax[1].hist(df.num_body, bins=50)\n",
    "ax[1].axvline(np.max(df.num_body), label='max len: ' + str(np.max(df.num_body)), color='k', ls='--')\n",
    "ax[1].axvline(q_body, label=str(q) + '% len: ' + str(q_body), color='r', ls='--')\n",
    "ax[1].legend()\n",
    "ax[1].set_title('Body')\n",
    "plt.show()"
   ]
  },
  {
   "cell_type": "code",
   "execution_count": 8,
   "metadata": {},
   "outputs": [
    {
     "name": "stdout",
     "output_type": "stream",
     "text": [
      "(5525, 5)\n"
     ]
    },
    {
     "data": {
      "text/html": [
       "<div>\n",
       "<style scoped>\n",
       "    .dataframe tbody tr th:only-of-type {\n",
       "        vertical-align: middle;\n",
       "    }\n",
       "\n",
       "    .dataframe tbody tr th {\n",
       "        vertical-align: top;\n",
       "    }\n",
       "\n",
       "    .dataframe thead th {\n",
       "        text-align: right;\n",
       "    }\n",
       "</style>\n",
       "<table border=\"1\" class=\"dataframe\">\n",
       "  <thead>\n",
       "    <tr style=\"text-align: right;\">\n",
       "      <th></th>\n",
       "      <th>count</th>\n",
       "      <th>mean</th>\n",
       "      <th>std</th>\n",
       "      <th>min</th>\n",
       "      <th>25%</th>\n",
       "      <th>50%</th>\n",
       "      <th>75%</th>\n",
       "      <th>max</th>\n",
       "    </tr>\n",
       "  </thead>\n",
       "  <tbody>\n",
       "    <tr>\n",
       "      <td>num_head</td>\n",
       "      <td>5525.0</td>\n",
       "      <td>62.876561</td>\n",
       "      <td>35.371587</td>\n",
       "      <td>21.0</td>\n",
       "      <td>29.0</td>\n",
       "      <td>50.0</td>\n",
       "      <td>98.0</td>\n",
       "      <td>126.0</td>\n",
       "    </tr>\n",
       "  </tbody>\n",
       "</table>\n",
       "</div>"
      ],
      "text/plain": [
       "           count       mean        std   min   25%   50%   75%    max\n",
       "num_head  5525.0  62.876561  35.371587  21.0  29.0  50.0  98.0  126.0"
      ]
     },
     "metadata": {},
     "output_type": "display_data"
    },
    {
     "data": {
      "text/html": [
       "<div>\n",
       "<style scoped>\n",
       "    .dataframe tbody tr th:only-of-type {\n",
       "        vertical-align: middle;\n",
       "    }\n",
       "\n",
       "    .dataframe tbody tr th {\n",
       "        vertical-align: top;\n",
       "    }\n",
       "\n",
       "    .dataframe thead th {\n",
       "        text-align: right;\n",
       "    }\n",
       "</style>\n",
       "<table border=\"1\" class=\"dataframe\">\n",
       "  <thead>\n",
       "    <tr style=\"text-align: right;\">\n",
       "      <th></th>\n",
       "      <th>count</th>\n",
       "      <th>mean</th>\n",
       "      <th>std</th>\n",
       "      <th>min</th>\n",
       "      <th>25%</th>\n",
       "      <th>50%</th>\n",
       "      <th>75%</th>\n",
       "      <th>max</th>\n",
       "    </tr>\n",
       "  </thead>\n",
       "  <tbody>\n",
       "    <tr>\n",
       "      <td>num_body</td>\n",
       "      <td>5525.0</td>\n",
       "      <td>278.74009</td>\n",
       "      <td>188.62687</td>\n",
       "      <td>101.0</td>\n",
       "      <td>129.0</td>\n",
       "      <td>192.0</td>\n",
       "      <td>388.0</td>\n",
       "      <td>784.0</td>\n",
       "    </tr>\n",
       "  </tbody>\n",
       "</table>\n",
       "</div>"
      ],
      "text/plain": [
       "           count       mean        std    min    25%    50%    75%    max\n",
       "num_body  5525.0  278.74009  188.62687  101.0  129.0  192.0  388.0  784.0"
      ]
     },
     "metadata": {},
     "output_type": "display_data"
    },
    {
     "data": {
      "text/plain": [
       "(5525, 5)"
      ]
     },
     "execution_count": 8,
     "metadata": {},
     "output_type": "execute_result"
    }
   ],
   "source": [
    "# Selecting the subset of data for training. Cases with longer sequences caused\n",
    "# problems with the kernel on Jupyter Hub crashing. The floor is set to try and \n",
    "# limit headnotes that are only a couple of words.\n",
    "\n",
    "max_head = q_head\n",
    "max_body = q_body\n",
    "\n",
    "df = df[(df['num_head'] <= q_head) & (df['num_head'] > 20) & \n",
    "        (df['num_body'] <= q_body) & (df['num_body'] > 100)]\n",
    "print(df.shape)\n",
    "display(df[['num_head']].describe().T)\n",
    "display(df[['num_body']].describe().T)\n",
    "\n",
    "# display(df.head())\n",
    "df.shape"
   ]
  },
  {
   "cell_type": "code",
   "execution_count": 8,
   "metadata": {},
   "outputs": [],
   "source": [
    "# df.to_json('df.json')\n",
    "df = pd.read_json('df.json')"
   ]
  },
  {
   "cell_type": "code",
   "execution_count": 9,
   "metadata": {},
   "outputs": [
    {
     "name": "stdout",
     "output_type": "stream",
     "text": [
      "115\n",
      "22\n"
     ]
    },
    {
     "data": {
      "image/png": "[encoded data removed]",
      "text/plain": [
       "<Figure size 432x288 with 2 Axes>"
      ]
     },
     "metadata": {
      "needs_background": "light"
     },
     "output_type": "display_data"
    }
   ],
   "source": [
    "# plotting the word count in headnotes and opinions\n",
    "\n",
    "text_word_count = []\n",
    "summary_word_count = []\n",
    "\n",
    "for i in df['body']:\n",
    "      text_word_count.append(len(i.split()))\n",
    "\n",
    "for i in df['head']:\n",
    "      summary_word_count.append(len(i.split()))\n",
    "\n",
    "length_df = pd.DataFrame({'body':text_word_count, 'head':summary_word_count})\n",
    "max_head = length_df['head'].max()\n",
    "max_body = length_df['body'].max()\n",
    "print(max_body)\n",
    "print(max_head)\n",
    "length_df.hist(bins = 30)\n",
    "plt.show()"
   ]
  },
  {
   "cell_type": "code",
   "execution_count": 12,
   "metadata": {},
   "outputs": [],
   "source": [
    "# setting variables that will be used for inference and scoring\n",
    "\n",
    "max_len_text = max_body\n",
    "max_len_summary = max_head"
   ]
  },
  {
   "cell_type": "code",
   "execution_count": 13,
   "metadata": {},
   "outputs": [],
   "source": [
    "# splitting the validation and training set on a 90/10 split\n",
    "\n",
    "x_tr, x_val, y_tr, y_val = train_test_split(df['body'], df['head'], test_size=0.05, random_state=42)"
   ]
  },
  {
   "cell_type": "code",
   "execution_count": 14,
   "metadata": {},
   "outputs": [],
   "source": [
    "# tokenize sequences\n",
    "x_toke = Tokenizer()\n",
    "x_toke.fit_on_texts(list(x_tr))\n",
    "x_tr = x_toke.texts_to_sequences(x_tr)\n",
    "x_val = x_toke.texts_to_sequences(x_val)\n",
    "\n",
    "# padding\n",
    "x_tr = pad_sequences(x_tr, maxlen=max_body, padding='post')\n",
    "x_val = pad_sequences(x_val, maxlen=max_body, padding='post')\n",
    "\n",
    "x_voc_size   =  len(x_toke.word_index) + 1"
   ]
  },
  {
   "cell_type": "code",
   "execution_count": 15,
   "metadata": {},
   "outputs": [],
   "source": [
    "# tokenize sequences\n",
    "y_toke = Tokenizer()\n",
    "y_toke.fit_on_texts(list(y_tr))\n",
    "y_tr = y_toke.texts_to_sequences(y_tr)\n",
    "y_val = y_toke.texts_to_sequences(y_val)\n",
    "\n",
    "# padding\n",
    "y_tr = pad_sequences(y_tr, maxlen=max_head, padding='post')\n",
    "y_val = pad_sequences(y_val, maxlen=max_head, padding='post')\n",
    "\n",
    "y_voc_size   =  len(y_toke.word_index) + 1"
   ]
  },
  {
   "cell_type": "markdown",
   "metadata": {},
   "source": [
    "# Model"
   ]
  },
  {
   "cell_type": "code",
   "execution_count": 16,
   "metadata": {},
   "outputs": [
    {
     "name": "stdout",
     "output_type": "stream",
     "text": [
      "Model: \"model\"\n",
      "__________________________________________________________________________________________________\n",
      "Layer (type)                    Output Shape         Param #     Connected to                     \n",
      "==================================================================================================\n",
      "input_1 (InputLayer)            [(None, 115)]        0                                            \n",
      "__________________________________________________________________________________________________\n",
      "embedding (Embedding)           (None, 115, 500)     8299000     input_1[0][0]                    \n",
      "__________________________________________________________________________________________________\n",
      "bidirectional (Bidirectional)   [(None, 115, 1000),  4004000     embedding[0][0]                  \n",
      "__________________________________________________________________________________________________\n",
      "dropout (Dropout)               (None, 115, 1000)    0           bidirectional[0][0]              \n",
      "__________________________________________________________________________________________________\n",
      "bidirectional_1 (Bidirectional) [(None, 115, 1000),  6004000     dropout[0][0]                    \n",
      "__________________________________________________________________________________________________\n",
      "input_2 (InputLayer)            [(None, None)]       0                                            \n",
      "__________________________________________________________________________________________________\n",
      "dropout_1 (Dropout)             (None, 115, 1000)    0           bidirectional_1[0][0]            \n",
      "__________________________________________________________________________________________________\n",
      "embedding_1 (Embedding)         (None, None, 500)    3834500     input_2[0][0]                    \n",
      "__________________________________________________________________________________________________\n",
      "lstm_2 (LSTM)                   [(None, 115, 500), ( 3002000     dropout_1[0][0]                  \n",
      "__________________________________________________________________________________________________\n",
      "lstm_3 (LSTM)                   [(None, None, 500),  2002000     embedding_1[0][0]                \n",
      "                                                                 lstm_2[0][1]                     \n",
      "                                                                 lstm_2[0][2]                     \n",
      "__________________________________________________________________________________________________\n",
      "attention_layer (AttentionLayer ((None, None, 500),  500500      lstm_2[0][0]                     \n",
      "                                                                 lstm_3[0][0]                     \n",
      "__________________________________________________________________________________________________\n",
      "concat_layer (Concatenate)      (None, None, 1000)   0           lstm_3[0][0]                     \n",
      "                                                                 attention_layer[0][0]            \n",
      "__________________________________________________________________________________________________\n",
      "time_distributed (TimeDistribut (None, None, 7669)   7676669     concat_layer[0][0]               \n",
      "==================================================================================================\n",
      "Total params: 35,322,669\n",
      "Trainable params: 35,322,669\n",
      "Non-trainable params: 0\n",
      "__________________________________________________________________________________________________\n"
     ]
    }
   ],
   "source": [
    "# creating the model architecture\n",
    "\n",
    "from keras import backend as K \n",
    "K.clear_session() \n",
    "latent_dim = 500 \n",
    "drop_out = 0.5\n",
    "\n",
    "# Encoder \n",
    "encoder_inputs = Input(shape=(max_body,)) \n",
    "enc_emb = Embedding(x_voc_size, latent_dim, trainable=True)(encoder_inputs) \n",
    "\n",
    "\n",
    "#LSTM 1 \n",
    "encoder_lstm1 = Bidirectional(LSTM(latent_dim,return_sequences=True,return_state=True))\n",
    "encoder_output1, state_h1, state_c1, state_h1_backward, state_c1_backward = encoder_lstm1(enc_emb)\n",
    "drop1 = Dropout(drop_out)(encoder_output1)\n",
    "\n",
    "#LSTM 2 \n",
    "encoder_lstm2 = Bidirectional(LSTM(latent_dim,return_sequences=True,return_state=True))\n",
    "encoder_output2, state_h2, state_c2, state_h2_backward, state_c2_backward  = encoder_lstm2(drop1) \n",
    "drop2 = Dropout(drop_out)(encoder_output2)\n",
    "\n",
    "#LSTM 3 \n",
    "encoder_lstm3 = LSTM(latent_dim, return_state=True, return_sequences=True)\n",
    "encoder_outputs, state_h, state_c = encoder_lstm3(drop2)\n",
    "\n",
    "# Set up the decoder. \n",
    "decoder_inputs = Input(shape=(None,)) \n",
    "dec_emb_layer = Embedding(y_voc_size, latent_dim,trainable=True) \n",
    "dec_emb = dec_emb_layer(decoder_inputs) \n",
    "\n",
    "#LSTM using encoder_states as initial state\n",
    "decoder_lstm = LSTM(latent_dim, return_sequences=True, return_state=True) \n",
    "decoder_outputs, decoder_fwd_state, decoder_back_state = decoder_lstm(dec_emb,initial_state=[state_h, state_c]) \n",
    "\n",
    "#Attention Layer\n",
    "attn_layer = AttentionLayer(name='attention_layer') \n",
    "attn_out, attn_states = attn_layer([encoder_outputs, decoder_outputs]) \n",
    "\n",
    "# Concat attention output and decoder LSTM output \n",
    "decoder_concat_input = Concatenate(axis=-1, name='concat_layer')([decoder_outputs, attn_out])\n",
    "\n",
    "#Dense layer\n",
    "decoder_dense = TimeDistributed(Dense(y_voc_size, activation='softmax')) \n",
    "decoder_outputs = decoder_dense(decoder_concat_input) \n",
    "\n",
    "# Define the model\n",
    "model = Model([encoder_inputs, decoder_inputs], decoder_outputs) \n",
    "model.summary()"
   ]
  },
  {
   "cell_type": "code",
   "execution_count": 39,
   "metadata": {
    "scrolled": true
   },
   "outputs": [
    {
     "name": "stdout",
     "output_type": "stream",
     "text": [
      "Train on 5248 samples, validate on 277 samples\n",
      "Epoch 1/20\n",
      "5248/5248 [==============================] - 73s 14ms/sample - loss: 3.9186 - val_loss: 2.8273\n",
      "Epoch 2/20\n",
      "5248/5248 [==============================] - 57s 11ms/sample - loss: 3.0523 - val_loss: 2.6318\n",
      "Epoch 3/20\n",
      "5248/5248 [==============================] - 57s 11ms/sample - loss: 2.8873 - val_loss: 2.5469\n",
      "Epoch 4/20\n",
      "5248/5248 [==============================] - 57s 11ms/sample - loss: 2.7634 - val_loss: 2.4576\n",
      "Epoch 5/20\n",
      "5248/5248 [==============================] - 57s 11ms/sample - loss: 2.6222 - val_loss: 2.3872\n",
      "Epoch 6/20\n",
      "5248/5248 [==============================] - 57s 11ms/sample - loss: 2.4807 - val_loss: 2.3311\n",
      "Epoch 7/20\n",
      "5248/5248 [==============================] - 57s 11ms/sample - loss: 2.3543 - val_loss: 2.2904\n",
      "Epoch 8/20\n",
      "5248/5248 [==============================] - 57s 11ms/sample - loss: 2.2295 - val_loss: 2.2615\n",
      "Epoch 9/20\n",
      "5248/5248 [==============================] - 57s 11ms/sample - loss: 2.1293 - val_loss: 2.2522\n",
      "Epoch 10/20\n",
      "5248/5248 [==============================] - 57s 11ms/sample - loss: 2.0340 - val_loss: 2.2347\n",
      "Epoch 11/20\n",
      "5248/5248 [==============================] - 58s 11ms/sample - loss: 1.9423 - val_loss: 2.2291\n",
      "Epoch 12/20\n",
      "5248/5248 [==============================] - 56s 11ms/sample - loss: 1.8491 - val_loss: 2.2280\n",
      "Epoch 13/20\n",
      "5248/5248 [==============================] - 57s 11ms/sample - loss: 1.7615 - val_loss: 2.2363\n",
      "Epoch 14/20\n",
      "5248/5248 [==============================] - 58s 11ms/sample - loss: 1.6783 - val_loss: 2.2500\n",
      "Epoch 15/20\n",
      "5248/5248 [==============================] - 58s 11ms/sample - loss: 1.5962 - val_loss: 2.2415\n",
      "Epoch 16/20\n",
      "5248/5248 [==============================] - 58s 11ms/sample - loss: 1.5125 - val_loss: 2.2627\n",
      "Epoch 17/20\n",
      "5248/5248 [==============================] - 57s 11ms/sample - loss: 1.4316 - val_loss: 2.2756\n",
      "Epoch 18/20\n",
      "5248/5248 [==============================] - 57s 11ms/sample - loss: 1.3579 - val_loss: 2.2848\n",
      "Epoch 19/20\n",
      "5248/5248 [==============================] - 57s 11ms/sample - loss: 1.2825 - val_loss: 2.3008\n",
      "Epoch 20/20\n",
      "5248/5248 [==============================] - 57s 11ms/sample - loss: 1.2105 - val_loss: 2.3114\n"
     ]
    }
   ],
   "source": [
    "# compiling the model and training\n",
    "\n",
    "model.compile(optimizer='adam', loss='sparse_categorical_crossentropy')\n",
    "es = EarlyStopping(monitor='val_loss', mode='min', verbose=1)\n",
    "\n",
    "history=model.fit([x_tr,y_tr[:,:-1]], y_tr.reshape(y_tr.shape[0],y_tr.shape[1], 1)[:,1:],\n",
    "                  epochs=20, batch_size=128, \n",
    "                  validation_data=([x_val,y_val[:,:-1]], y_val.reshape(y_val.shape[0],y_val.shape[1], 1)[:,1:]))\n",
    "model.save_weights('model_blog_weights_bidirectional_5k.h5')"
   ]
  },
  {
   "cell_type": "code",
   "execution_count": 17,
   "metadata": {},
   "outputs": [],
   "source": [
    "model.load_weights('model_blog_weights_bidirectional_5k.h5')"
   ]
  },
  {
   "cell_type": "code",
   "execution_count": 43,
   "metadata": {
    "scrolled": true
   },
   "outputs": [
    {
     "data": {
      "image/png": "[encoded data removed]",
      "text/plain": [
       "<Figure size 432x288 with 1 Axes>"
      ]
     },
     "metadata": {
      "needs_background": "light"
     },
     "output_type": "display_data"
    }
   ],
   "source": [
    "# plotting accuracy over epochs\n",
    "\n",
    "plt.plot(history.history['loss'], label='train') \n",
    "plt.plot(history.history['val_loss'], label='test') \n",
    "plt.legend() \n",
    "plt.show()"
   ]
  },
  {
   "cell_type": "code",
   "execution_count": 18,
   "metadata": {},
   "outputs": [],
   "source": [
    "# creating dictionaries for prediction and metrics\n",
    "\n",
    "reverse_target_word_index = y_toke.index_word \n",
    "reverse_source_word_index = x_toke.index_word \n",
    "target_word_index = y_toke.word_index"
   ]
  },
  {
   "cell_type": "code",
   "execution_count": 19,
   "metadata": {},
   "outputs": [],
   "source": [
    "# encoder inference\n",
    "encoder_model = Model(inputs=encoder_inputs,outputs=[encoder_outputs, state_h, state_c])\n",
    "\n",
    "# decoder inference\n",
    "# Below tensors will hold the states of the previous time step\n",
    "decoder_state_input_h = Input(shape=(latent_dim,))\n",
    "decoder_state_input_c = Input(shape=(latent_dim,))\n",
    "decoder_hidden_state_input = Input(shape=(max_len_text, latent_dim))\n",
    "\n",
    "# Get the embeddings of the decoder sequence\n",
    "dec_emb2 = dec_emb_layer(decoder_inputs)\n",
    "\n",
    "# To predict the next word in the sequence, set the initial states to the states from the previous time step\n",
    "decoder_outputs2, state_h2, state_c2 = decoder_lstm(dec_emb2, initial_state=[decoder_state_input_h, decoder_state_input_c])\n",
    "\n",
    "#attention inference\n",
    "attn_out_inf, attn_states_inf = attn_layer([decoder_hidden_state_input, decoder_outputs2])\n",
    "decoder_inf_concat = Concatenate(axis=-1, name='concat')([decoder_outputs2, attn_out_inf])\n",
    "\n",
    "# A dense softmax layer to generate prob dist. over the target vocabulary\n",
    "decoder_outputs2 = decoder_dense(decoder_inf_concat)\n",
    "\n",
    "# Final decoder model\n",
    "decoder_model = Model(inputs = [decoder_inputs] + \n",
    "                      [decoder_hidden_state_input, decoder_state_input_h, decoder_state_input_c],\n",
    "                      outputs = [decoder_outputs2] + [state_h2, state_c2])"
   ]
  },
  {
   "cell_type": "code",
   "execution_count": 20,
   "metadata": {},
   "outputs": [],
   "source": [
    "# setting the max headnote length below based off the plot above that shows this number will \n",
    "# capture the majority of headnotes in the training set\n",
    "\n",
    "max_len_summary = 18\n",
    "\n",
    "def decode_sequence(input_seq):\n",
    "    # Encode the input as state vectors.\n",
    "    e_out, e_h, e_c = encoder_model.predict(input_seq)\n",
    "\n",
    "    # Generate empty target sequence of length 1.\n",
    "    target_seq = np.zeros((1,1))\n",
    "\n",
    "    # Chose the 'start' word as the first word of the target sequence\n",
    "    target_seq[0, 0] = target_word_index['start']\n",
    "\n",
    "    stop_condition = False\n",
    "    decoded_sentence = ''\n",
    "    while not stop_condition:\n",
    "        output_tokens, h, c = decoder_model.predict([target_seq] + [e_out, e_h, e_c])\n",
    "\n",
    "        # Sample a token\n",
    "        ### adding +1 for believed indexing of the word dictionary #######\n",
    "        sampled_token_index = np.argmax(output_tokens[0, -1, :]) #+ 1\n",
    "        if sampled_token_index == 0:\n",
    "            sampled_token = 'pad'\n",
    "        ##################################################################\n",
    "        else:\n",
    "            sampled_token = reverse_target_word_index[sampled_token_index]\n",
    "\n",
    "        if(sampled_token!='end'):\n",
    "            decoded_sentence += ' ' + sampled_token\n",
    "\n",
    "            # Exit condition: either hit max length or find stop word.\n",
    "            if (sampled_token == 'end' or len(decoded_sentence.split()) >= (max_len_summary-1)):\n",
    "                stop_condition = True\n",
    "\n",
    "        # Update the target sequence (of length 1).\n",
    "        target_seq = np.zeros((1,1))\n",
    "        target_seq[0, 0] = sampled_token_index\n",
    "\n",
    "        # Update internal states\n",
    "        e_h, e_c = h, c\n",
    "\n",
    "    return decoded_sentence"
   ]
  },
  {
   "cell_type": "code",
   "execution_count": 21,
   "metadata": {},
   "outputs": [],
   "source": [
    "# functions to help with metrics and printing text\n",
    "\n",
    "def seq2summary(input_seq):\n",
    "    newString=''\n",
    "    for i in input_seq:\n",
    "        if((i!=0 and i!=target_word_index['start']) and i!=target_word_index['end']):\n",
    "            newString=newString+reverse_target_word_index[i]+' '\n",
    "    return newString\n",
    "\n",
    "def seq2text(input_seq):\n",
    "    newString=''\n",
    "    for i in input_seq:\n",
    "        if(i!=0):\n",
    "            newString=newString+reverse_source_word_index[i]+' '\n",
    "    return newString"
   ]
  },
  {
   "cell_type": "code",
   "execution_count": 29,
   "metadata": {},
   "outputs": [
    {
     "data": {
      "text/plain": [
       "0.2666666617555556"
      ]
     },
     "execution_count": 29,
     "metadata": {},
     "output_type": "execute_result"
    }
   ],
   "source": [
    "hypothesis = decode_sequence(x_val[0].reshape(1,max_len_text))\n",
    "reference = seq2summary(y_val[0])\n",
    "scores = rouge.get_scores(hypothesis, reference, avg=True)\n",
    "metrics.append({'f':scores['rouge-1']['f'],\n",
    "                'p':scores['rouge-1']['p'],\n",
    "                'r':scores['rouge-1']['r']})"
   ]
  },
  {
   "cell_type": "code",
   "execution_count": 31,
   "metadata": {},
   "outputs": [],
   "source": [
    "# calculating rouge 1 scores\n",
    "\n",
    "rouge = Rouge()\n",
    "\n",
    "metrics = []\n",
    "for i in range(x_val.shape[0]):\n",
    "    hypothesis = decode_sequence(x_val[i].reshape(1,max_len_text))\n",
    "    reference = seq2summary(y_val[i])\n",
    "    scores = rouge.get_scores(hypothesis, reference, avg=True)\n",
    "    metrics.append({'f':scores['rouge-1']['f'],\n",
    "                    'p':scores['rouge-1']['p'],\n",
    "                    'r':scores['rouge-1']['r']})\n",
    "metrics = pd.DataFrame(metrics)"
   ]
  },
  {
   "cell_type": "code",
   "execution_count": 32,
   "metadata": {},
   "outputs": [
    {
     "data": {
      "text/plain": [
       "f    0.059458\n",
       "p    0.045657\n",
       "r    0.106788\n",
       "dtype: float64"
      ]
     },
     "execution_count": 32,
     "metadata": {},
     "output_type": "execute_result"
    }
   ],
   "source": [
    "# printing the rouge 1 metrics\n",
    "\n",
    "metrics.mean()"
   ]
  },
  {
   "cell_type": "code",
   "execution_count": 33,
   "metadata": {
    "scrolled": true
   },
   "outputs": [
    {
     "name": "stdout",
     "output_type": "stream",
     "text": [
      "Review: fred next friend henry curiam upon controverted issue fact tbe jury responded favor tbe defendant tbe court charge tbe jury challenged several particulars none tbe exceptions regarded sufficient moment work new trial new question law presented tbe assignments error tbe verdict judgment upheld error \n",
      "Original summary: fred next friend henry jarman ones wallace white plaintiff appellant summersill defendant appellee \n",
      "Predicted summary:  mrs mae chamberlain duke life insurance company tennessee allen plaintiff appellant john hall defendant appellee pad pad\n",
      "\n",
      "\n",
      "Review: everett mckinley moore paul curiam plenary evidence plaintiff present collision occurred small plaintiff chevrolet collision occurred small using car personal purposes view sufficient evidence support findings collision plaintiff damage proximately caused negligence defendant also negligence small whether testimony small plaintiff witness discloses matter law negligence part proximate cause need decided assuming small negligence proximate cause unless defendant allegations agency established negligence small bar plaintiff right recover reason agency issue burden proof defendant determination jury proper instructions connection see whiteside judgment nonsuit reversed cause remanded trial issues raised pleadings reversed \n",
      "Original summary: everett mckinley moore paul charles lambeth plaintiff appellant walser brinkley walser mcgirt defendant appellee \n",
      "Predicted summary:  john bechtel administrator estate jearlene lanier fries bridge boom inc employer self insurance company pad pad pad\n",
      "\n",
      "\n",
      "Review: higgs southeastern cleaning servicepetition plaintiff discretionary review pursuant allowed september petition plaintiff writ certiorari review decision north carolina court appeals dismissed moot september \n",
      "Original summary: southeastern cleaning service \n",
      "Predicted summary:  mrs cassie messick administratrix estate gregory gregory trash plaintiff appellant counsel contra pad pad pad pad pad\n",
      "\n",
      "\n",
      "Review: city new bern new bern craven county board educationmotion several defendants temporary stay allowed january pending receipt determination defendants petition discretionary review \n",
      "Original summary: city new bern new bern craven county board education \n",
      "Predicted summary:  state rel utilities comm carolina utility cust assn pad pad pad pad pad pad pad pad pad\n",
      "\n",
      "\n",
      "Review: state dwain cornelius ferrelldef pro motion petition amend dismissed def pro pwc review order coa dismissed \n",
      "Original summary: state dwain cornelius ferrell \n",
      "Predicted summary:  state rel utilities comm carolina utility cust assn pad pad pad pad pad pad pad pad pad\n",
      "\n",
      "\n",
      "Review: lou wilson metropolitan life insurance companypee curiam principle facts instant case identical appearing case fulton metropolitan life insurance master policy judgment nonsuit affirmed fulton case supra authority judgment entered affirmed \n",
      "Original summary: lou wilson metropolitan life insurance company stiers plaintiff appellant manly hendren womble defendant appellee \n",
      "Predicted summary:  mrs wilson prodev llc george robert lee lee davis plaintiff appellant john hall john hall defendant appellee\n",
      "\n",
      "\n",
      "Review: state john tbe may term chatham superior court defendant herein john tried upon indictment charging murder one john headen resulted conviction sentence death ben tried previous january term separate bill indictment goldston ante prisoner gave notice appeal supreme court allowed days within make serve statement case appeal nothing done towards perfecting appeal error appears face record proper motion docket dismiss must allowed hayeslipps pruitt wood appeal dismissed \n",
      "Original summary: state john attorney general brummiit assistant attorney general seawell state \n",
      "Predicted summary:  state north carolina david ray richardson pad pad pad pad pad pad pad pad pad pad pad\n",
      "\n",
      "\n",
      "Review: chicopee inc sims metal defendant reconsideration petition discretionary review denied september \n",
      "Original summary: chicopee inc sims metal works \n",
      "Predicted summary:  matter custody robert blair counsel appearing defendant pad pad pad pad pad pad pad pad pad pad\n",
      "\n",
      "\n",
      "Review: foreman blades lumber company companyper curiam interpret amended complaint alleged cause action wrongful conversion timber situated land gates county trees cut lumber apt time defendant made motion change place trial pasquotank gates dixon motion denied defendant excepted appealed judgment denying motion free error cedar works lumber judgment affirmed \n",
      "Original summary: blades lumber company company boone appellant mcmullan leboy appellee \n",
      "Predicted summary:  mrs cassie messick administratrix davis deceased clarence boss plaintiff appellant john hall defendant appellee pad pad pad\n",
      "\n",
      "\n",
      "Review: sherif philips pitt county memorial hospital inc paul bolin ralph whatleypit motion temporary stay pit petition writ supersedeas pit noa based upon constitutional question pit pdr defs motion dismiss appeal defs conditional pdr allowed dissolved stay denied denied allowed dismissed moot \n",
      "Original summary: sherif philips pitt county memorial hospital inc paul bolin ralph whatley \n",
      "Predicted summary:  mrs wilson prodev llc george robert lee lee mckenzie plaintiff appellant john hall defendant appellee pad pad\n",
      "\n",
      "\n"
     ]
    }
   ],
   "source": [
    "# printing sample predictions\n",
    "\n",
    "for i in range(10):\n",
    "    print(\"Review:\",seq2text(x_val[i]))\n",
    "    print(\"Original summary:\",seq2summary(y_val[i]))\n",
    "    print(\"Predicted summary:\",decode_sequence(x_val[i].reshape(1,max_len_text)))\n",
    "    print(\"\\n\")"
   ]
  }
 ],
 "metadata": {
  "kernelspec": {
   "display_name": "python3",
   "language": "python",
   "name": "python3"
  },
  "language_info": {
   "codemirror_mode": {
    "name": "ipython",
    "version": 3
   },
   "file_extension": ".py",
   "mimetype": "text/x-python",
   "name": "python",
   "nbconvert_exporter": "python",
   "pygments_lexer": "ipython3",
   "version": "3.7.4"
  }
 },
 "nbformat": 4,
 "nbformat_minor": 4
}
