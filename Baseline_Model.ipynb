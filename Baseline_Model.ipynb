{
 "cells": [
  {
   "cell_type": "code",
   "execution_count": 80,
   "metadata": {},
   "outputs": [
    {
     "name": "stderr",
     "output_type": "stream",
     "text": [
      "[nltk_data] Downloading package stopwords to\n",
      "[nltk_data]     /Users/qilongxin/nltk_data...\n",
      "[nltk_data]   Package stopwords is already up-to-date!\n"
     ]
    }
   ],
   "source": [
    "# libraries\n",
    "import json\n",
    "import lzma\n",
    "import pandas as pd\n",
    "import numpy as np\n",
    "from bs4 import BeautifulSoup\n",
    "import re\n",
    "from tqdm import tqdm\n",
    "from IPython.core.display import display, HTML\n",
    "import re\n",
    "from nltk.tokenize import RegexpTokenizer\n",
    "from nltk.corpus import stopwords  \n",
    "import nltk\n",
    "nltk.download('stopwords')\n",
    "import matplotlib.pyplot as plt\n",
    "import seaborn as sns\n",
    "import random\n",
    "sns.set()\n",
    "\n",
    "# from IPython.core.interactiveshell import InteractiveShell\n",
    "# InteractiveShell.ast_node_interactivity = \"all\"\n",
    "\n",
    "# pd.options.display.max_columns = 999\n",
    "# pd.options.display.max_rows = 999"
   ]
  },
  {
   "cell_type": "code",
   "execution_count": 2,
   "metadata": {},
   "outputs": [],
   "source": [
    "# setting up tokenizer\n",
    "tokenizer = RegexpTokenizer('\\s+', gaps=True)"
   ]
  },
  {
   "cell_type": "code",
   "execution_count": 53,
   "metadata": {},
   "outputs": [],
   "source": [
    "def get_raw_data(state):\n",
    "    # reading json files\n",
    "    cases = []\n",
    "    with lzma.open(state + '/data/data.jsonl.xz', 'r') as jsonl_file:\n",
    "        for case in jsonl_file:\n",
    "            cases.append(json.loads(str(case, 'utf-8')))\n",
    "\n",
    "    df = pd.DataFrame(cases).sort_values('decision_date').reset_index(drop=True)\n",
    "    df['decision_date'] = pd.to_datetime(df['decision_date'])\n",
    "\n",
    "    # parsing data\n",
    "    storage = []\n",
    "    for i in range(df.shape[0]):\n",
    "        casebody_idx = df.columns.get_loc(\"casebody\")\n",
    "        judges = df.iloc[i,casebody_idx]['data']['judges']\n",
    "        attorneys = df.iloc[i,casebody_idx]['data']['attorneys']\n",
    "        headnotes = df.iloc[i,casebody_idx]['data']['head_matter']\n",
    "        if df.iloc[i,casebody_idx]['data']['opinions'] != []:\n",
    "            opinions = df.iloc[i,casebody_idx]['data']['opinions'][0]['text']\n",
    "\n",
    "        storage.append({'judges': judges,\n",
    "                        'attorneys': attorneys,\n",
    "                        'headnotes': headnotes,\n",
    "                        'opinions': opinions})\n",
    "    df_parsed = pd.DataFrame(storage)\n",
    "    df = df_parsed.merge(df, left_index=True, right_index=True)\n",
    "\n",
    "    return df"
   ]
  },
  {
   "cell_type": "code",
   "execution_count": 54,
   "metadata": {},
   "outputs": [],
   "source": [
    "df_ar = get_raw_data('Arkansas')\n",
    "\n",
    "baseline_size = 10\n",
    "\n",
    "baseline_data = df_ar.sample(n=baseline_size,replace=False, random_state=1)\n",
    "baseline_text,baseline_summary = baseline_data.opinions.tolist(),baseline_data.headnotes.tolist()\n",
    "\n"
   ]
  },
  {
   "cell_type": "code",
   "execution_count": 82,
   "metadata": {},
   "outputs": [],
   "source": [
    "from summarizer import Summarizer\n",
    "#https://github.com/dmmiller612/bert-extractive-summarizer\n",
    "import rouge \n",
    "\n",
    "model = Summarizer()\n",
    "rouge = rouge.Rouge()\n",
    "\n",
    "def getRougeScore(y_true,y_pred,metric='rouge-2',score='f'): \n",
    "    scores = np.zeros(len(y_true))\n",
    "    for i,text in enumerate(y_true): \n",
    "        full = ''.join(result)\n",
    "        sc = rouge.get_scores(baseline_summary[i], full)\n",
    "        scores[i] = sc[0][metric][score]\n",
    "    print(np.mean(scores))\n",
    "    return scores \n",
    "\n",
    "class Baseline_BERT_model(): \n",
    "    def __init__ (self,min_length=60): \n",
    "        super(Baseline_BERT_model,self).__init__()\n",
    "        self.min_length = min_length\n",
    "        \n",
    "    def evaluate(self,texts,summaries):  \n",
    "        results = []\n",
    "        for i,text in enumerate(texts): \n",
    "            results.append(model(text,min_length=self.min_length))\n",
    "        self.results = results\n",
    "        self.summaries = summaries \n",
    "        return results \n",
    "    \n",
    "    def reportEvaluation(self,metric='rouge-2',score='f'): \n",
    "        _ = getRougeScore(self.summaries,self.results,metric,score) \n",
    "    def inspectOneSummary(self):\n",
    "        # randomly inspect one summary \n",
    "        print(self.results[random.randint(0,len(self.results)-1)])\n",
    "        "
   ]
  },
  {
   "cell_type": "code",
   "execution_count": 83,
   "metadata": {},
   "outputs": [
    {
     "name": "stdout",
     "output_type": "stream",
     "text": [
      "0.01252517567017948\n"
     ]
    }
   ],
   "source": [
    "bert = Baseline_BERT_model()\n",
    "\n",
    "_ = bert.evaluate(baseline_text,baseline_summary)\n",
    "bert.reportEvaluation()\n"
   ]
  },
  {
   "cell_type": "code",
   "execution_count": 84,
   "metadata": {},
   "outputs": [
    {
     "name": "stdout",
     "output_type": "stream",
     "text": [
      "Appellant, Wayne Burrow, was charged with refusing to send a minor to school, in violation of Ark. Stat. 1980):\n",
      "Every parent, guardian, or other person residing within the State of Arkansas and having in custody or charge any child or children between the ages of seven [7] and fifteen [15], (both inclusive) shall send such child or children to a public, private, or parochial school under such penalty for noncompliance with this section as hereinafter provided. Appellant urges us to find the statute unconstitutionally vague. He argues that our law requires attendance of children at a “public, private or parochial school” but fails to give any definition of what constitues school and, therefore, does not provide fair notice of the conduct that is prohibited. If, by his action, that individual clearly falls within the conduct proscribed by the statute he cannot be heard to complain. We stated the traditional standard for determining vagueness in Jordan v. State, 274 Ark. 572, 626 S.W.2d 947 (1982): “Where a man of average intelligence would not have to speculate as to the meaning of the statute the constitutional requirement of specificity is met, since fair warning of the proscribed conduct is given.”\n"
     ]
    }
   ],
   "source": [
    "bert.inspectOneSummary()"
   ]
  },
  {
   "cell_type": "code",
   "execution_count": null,
   "metadata": {},
   "outputs": [],
   "source": []
  }
 ],
 "metadata": {
  "kernelspec": {
   "display_name": "Python 3",
   "language": "python",
   "name": "python3"
  },
  "language_info": {
   "codemirror_mode": {
    "name": "ipython",
    "version": 3
   },
   "file_extension": ".py",
   "mimetype": "text/x-python",
   "name": "python",
   "nbconvert_exporter": "python",
   "pygments_lexer": "ipython3",
   "version": "3.7.3"
  }
 },
 "nbformat": 4,
 "nbformat_minor": 4
}
